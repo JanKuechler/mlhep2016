{
 "cells": [
  {
   "cell_type": "markdown",
   "metadata": {},
   "source": [
    "## About\n",
    "\n",
    "In this notebook we prepare a simple solution for the [kaggle challenge on higgs.](https://inclass.kaggle.com/c/mlhep-2016-higgs-detection)"
   ]
  },
  {
   "cell_type": "code",
   "execution_count": 1,
   "metadata": {
    "collapsed": true
   },
   "outputs": [],
   "source": [
    "%matplotlib inline"
   ]
  },
  {
   "cell_type": "code",
   "execution_count": 2,
   "metadata": {
    "collapsed": true
   },
   "outputs": [],
   "source": [
    "import matplotlib.pyplot as plt\n",
    "\n",
    "import pandas\n",
    "import numpy\n",
    "\n",
    "from sklearn.cross_validation import train_test_split\n",
    "from sklearn.metrics import roc_auc_score"
   ]
  },
  {
   "cell_type": "markdown",
   "metadata": {},
   "source": [
    "### Download data"
   ]
  },
  {
   "cell_type": "code",
   "execution_count": 3,
   "metadata": {
    "collapsed": false
   },
   "outputs": [
    {
     "name": "stdout",
     "output_type": "stream",
     "text": [
      "File `public_train_10000.root' already there; not retrieving.\r\n"
     ]
    }
   ],
   "source": [
    "!cd datasets; wget -O public_train_10000.root -nc --no-check-certificate https://2016.mlhep.yandex.net/data/higgs/public_train_10000.root"
   ]
  },
  {
   "cell_type": "code",
   "execution_count": 4,
   "metadata": {
    "collapsed": false
   },
   "outputs": [
    {
     "name": "stdout",
     "output_type": "stream",
     "text": [
      "File `public_train_100000.root' already there; not retrieving.\r\n"
     ]
    }
   ],
   "source": [
    "# you can download training sample with 100000 available events\n",
    "# uncomment the below row\n",
    "!cd datasets; wget -O public_train_100000.root -nc --no-check-certificate https://2016.mlhep.yandex.net/data/higgs/public_train_100000.root"
   ]
  },
  {
   "cell_type": "code",
   "execution_count": 5,
   "metadata": {
    "collapsed": false
   },
   "outputs": [
    {
     "name": "stdout",
     "output_type": "stream",
     "text": [
      "File `public_test.root' already there; not retrieving.\r\n"
     ]
    }
   ],
   "source": [
    "!cd datasets; wget -O public_test.root -nc --no-check-certificate https://2016.mlhep.yandex.net/data/higgs/public_test.root"
   ]
  },
  {
   "cell_type": "markdown",
   "metadata": {},
   "source": [
    "### Read the smallest part of training file and test file"
   ]
  },
  {
   "cell_type": "code",
   "execution_count": 6,
   "metadata": {
    "collapsed": false
   },
   "outputs": [
    {
     "data": {
      "application/javascript": [
       "require(['codemirror/mode/clike/clike'], function(Clike) { console.log('ROOTaaS - C++ CodeMirror module loaded'); });"
      ]
     },
     "metadata": {},
     "output_type": "display_data"
    },
    {
     "data": {
      "application/javascript": [
       "IPython.CodeCell.config_defaults.highlight_modes['magic_text/x-c++src'] = {'reg':[/^%%cpp/]};"
      ]
     },
     "metadata": {},
     "output_type": "display_data"
    },
    {
     "name": "stdout",
     "output_type": "stream",
     "text": [
      "Welcome to ROOTaaS 6.06/04\n"
     ]
    }
   ],
   "source": [
    "import root_numpy\n",
    "data = pandas.DataFrame(root_numpy.root2array('datasets/public_train_10000.root'))\n",
    "test = pandas.DataFrame(root_numpy.root2array('datasets/public_test.root'))"
   ]
  },
  {
   "cell_type": "code",
   "execution_count": 7,
   "metadata": {
    "collapsed": false
   },
   "outputs": [
    {
     "data": {
      "text/html": [
       "<div>\n",
       "<table border=\"1\" class=\"dataframe\">\n",
       "  <thead>\n",
       "    <tr style=\"text-align: right;\">\n",
       "      <th></th>\n",
       "      <th>event_id</th>\n",
       "      <th>target</th>\n",
       "      <th>lepton_pt</th>\n",
       "      <th>lepton_eta</th>\n",
       "      <th>lepton_phi</th>\n",
       "      <th>mem_pt</th>\n",
       "      <th>mem_phi</th>\n",
       "      <th>jet1_pt</th>\n",
       "      <th>jet1_eta</th>\n",
       "      <th>jet1_phi</th>\n",
       "      <th>...</th>\n",
       "      <th>jet4_eta</th>\n",
       "      <th>jet4_phi</th>\n",
       "      <th>jet4_btag</th>\n",
       "      <th>m_jj</th>\n",
       "      <th>m_jjj</th>\n",
       "      <th>m_lv</th>\n",
       "      <th>m_jlv</th>\n",
       "      <th>m_bb</th>\n",
       "      <th>m_wbb</th>\n",
       "      <th>m_wwbb</th>\n",
       "    </tr>\n",
       "  </thead>\n",
       "  <tbody>\n",
       "    <tr>\n",
       "      <th>0</th>\n",
       "      <td>1000001</td>\n",
       "      <td>1.0</td>\n",
       "      <td>34.750568</td>\n",
       "      <td>0.787025</td>\n",
       "      <td>1.898891</td>\n",
       "      <td>20.862434</td>\n",
       "      <td>-2.622998</td>\n",
       "      <td>44.814148</td>\n",
       "      <td>-0.168171</td>\n",
       "      <td>2.631595</td>\n",
       "      <td>...</td>\n",
       "      <td>0.877472</td>\n",
       "      <td>-0.256736</td>\n",
       "      <td>0.000000</td>\n",
       "      <td>81.724449</td>\n",
       "      <td>189.583145</td>\n",
       "      <td>80.118317</td>\n",
       "      <td>170.086075</td>\n",
       "      <td>91.128204</td>\n",
       "      <td>298.468781</td>\n",
       "      <td>374.685760</td>\n",
       "    </tr>\n",
       "    <tr>\n",
       "      <th>1</th>\n",
       "      <td>1000002</td>\n",
       "      <td>1.0</td>\n",
       "      <td>54.250927</td>\n",
       "      <td>-1.057915</td>\n",
       "      <td>2.310697</td>\n",
       "      <td>51.167873</td>\n",
       "      <td>2.545749</td>\n",
       "      <td>31.039040</td>\n",
       "      <td>-2.220276</td>\n",
       "      <td>-0.737298</td>\n",
       "      <td>...</td>\n",
       "      <td>-1.139118</td>\n",
       "      <td>-1.300325</td>\n",
       "      <td>2.000016</td>\n",
       "      <td>65.837746</td>\n",
       "      <td>201.096756</td>\n",
       "      <td>83.321556</td>\n",
       "      <td>208.039688</td>\n",
       "      <td>67.118484</td>\n",
       "      <td>287.363983</td>\n",
       "      <td>527.247559</td>\n",
       "    </tr>\n",
       "    <tr>\n",
       "      <th>2</th>\n",
       "      <td>1000003</td>\n",
       "      <td>1.0</td>\n",
       "      <td>47.746025</td>\n",
       "      <td>-0.783184</td>\n",
       "      <td>2.660325</td>\n",
       "      <td>68.165527</td>\n",
       "      <td>-1.700790</td>\n",
       "      <td>36.945312</td>\n",
       "      <td>-1.151738</td>\n",
       "      <td>-0.626912</td>\n",
       "      <td>...</td>\n",
       "      <td>-0.798898</td>\n",
       "      <td>-1.605550</td>\n",
       "      <td>2.000016</td>\n",
       "      <td>69.316925</td>\n",
       "      <td>156.334732</td>\n",
       "      <td>95.307602</td>\n",
       "      <td>149.089005</td>\n",
       "      <td>130.389206</td>\n",
       "      <td>237.879318</td>\n",
       "      <td>336.058838</td>\n",
       "    </tr>\n",
       "    <tr>\n",
       "      <th>3</th>\n",
       "      <td>1000004</td>\n",
       "      <td>0.0</td>\n",
       "      <td>45.950066</td>\n",
       "      <td>1.613817</td>\n",
       "      <td>0.964722</td>\n",
       "      <td>39.302082</td>\n",
       "      <td>-0.075989</td>\n",
       "      <td>84.307426</td>\n",
       "      <td>0.465748</td>\n",
       "      <td>2.287783</td>\n",
       "      <td>...</td>\n",
       "      <td>-0.586711</td>\n",
       "      <td>-2.256246</td>\n",
       "      <td>2.000023</td>\n",
       "      <td>71.032066</td>\n",
       "      <td>182.341537</td>\n",
       "      <td>81.941925</td>\n",
       "      <td>164.411148</td>\n",
       "      <td>93.709511</td>\n",
       "      <td>237.900055</td>\n",
       "      <td>392.807831</td>\n",
       "    </tr>\n",
       "    <tr>\n",
       "      <th>4</th>\n",
       "      <td>1000005</td>\n",
       "      <td>0.0</td>\n",
       "      <td>44.409187</td>\n",
       "      <td>-0.228907</td>\n",
       "      <td>-1.837974</td>\n",
       "      <td>49.886654</td>\n",
       "      <td>0.156533</td>\n",
       "      <td>32.852112</td>\n",
       "      <td>2.561646</td>\n",
       "      <td>2.641460</td>\n",
       "      <td>...</td>\n",
       "      <td>0.293522</td>\n",
       "      <td>1.391425</td>\n",
       "      <td>0.000000</td>\n",
       "      <td>122.030174</td>\n",
       "      <td>288.594086</td>\n",
       "      <td>84.386459</td>\n",
       "      <td>150.299744</td>\n",
       "      <td>69.818291</td>\n",
       "      <td>435.990356</td>\n",
       "      <td>533.977905</td>\n",
       "    </tr>\n",
       "  </tbody>\n",
       "</table>\n",
       "<p>5 rows × 30 columns</p>\n",
       "</div>"
      ],
      "text/plain": [
       "   event_id  target  lepton_pt  lepton_eta  lepton_phi     mem_pt   mem_phi  \\\n",
       "0   1000001     1.0  34.750568    0.787025    1.898891  20.862434 -2.622998   \n",
       "1   1000002     1.0  54.250927   -1.057915    2.310697  51.167873  2.545749   \n",
       "2   1000003     1.0  47.746025   -0.783184    2.660325  68.165527 -1.700790   \n",
       "3   1000004     0.0  45.950066    1.613817    0.964722  39.302082 -0.075989   \n",
       "4   1000005     0.0  44.409187   -0.228907   -1.837974  49.886654  0.156533   \n",
       "\n",
       "     jet1_pt  jet1_eta  jet1_phi     ...      jet4_eta  jet4_phi  jet4_btag  \\\n",
       "0  44.814148 -0.168171  2.631595     ...      0.877472 -0.256736   0.000000   \n",
       "1  31.039040 -2.220276 -0.737298     ...     -1.139118 -1.300325   2.000016   \n",
       "2  36.945312 -1.151738 -0.626912     ...     -0.798898 -1.605550   2.000016   \n",
       "3  84.307426  0.465748  2.287783     ...     -0.586711 -2.256246   2.000023   \n",
       "4  32.852112  2.561646  2.641460     ...      0.293522  1.391425   0.000000   \n",
       "\n",
       "         m_jj       m_jjj       m_lv       m_jlv        m_bb       m_wbb  \\\n",
       "0   81.724449  189.583145  80.118317  170.086075   91.128204  298.468781   \n",
       "1   65.837746  201.096756  83.321556  208.039688   67.118484  287.363983   \n",
       "2   69.316925  156.334732  95.307602  149.089005  130.389206  237.879318   \n",
       "3   71.032066  182.341537  81.941925  164.411148   93.709511  237.900055   \n",
       "4  122.030174  288.594086  84.386459  150.299744   69.818291  435.990356   \n",
       "\n",
       "       m_wwbb  \n",
       "0  374.685760  \n",
       "1  527.247559  \n",
       "2  336.058838  \n",
       "3  392.807831  \n",
       "4  533.977905  \n",
       "\n",
       "[5 rows x 30 columns]"
      ]
     },
     "execution_count": 7,
     "metadata": {},
     "output_type": "execute_result"
    }
   ],
   "source": [
    "data.head()"
   ]
  },
  {
   "cell_type": "code",
   "execution_count": 8,
   "metadata": {
    "collapsed": false
   },
   "outputs": [
    {
     "data": {
      "text/html": [
       "<div>\n",
       "<table border=\"1\" class=\"dataframe\">\n",
       "  <thead>\n",
       "    <tr style=\"text-align: right;\">\n",
       "      <th></th>\n",
       "      <th>event_id</th>\n",
       "      <th>lepton_pt</th>\n",
       "      <th>lepton_eta</th>\n",
       "      <th>lepton_phi</th>\n",
       "      <th>mem_pt</th>\n",
       "      <th>mem_phi</th>\n",
       "      <th>jet1_pt</th>\n",
       "      <th>jet1_eta</th>\n",
       "      <th>jet1_phi</th>\n",
       "      <th>jet1_btag</th>\n",
       "      <th>...</th>\n",
       "      <th>jet4_eta</th>\n",
       "      <th>jet4_phi</th>\n",
       "      <th>jet4_btag</th>\n",
       "      <th>m_jj</th>\n",
       "      <th>m_jjj</th>\n",
       "      <th>m_lv</th>\n",
       "      <th>m_jlv</th>\n",
       "      <th>m_bb</th>\n",
       "      <th>m_wbb</th>\n",
       "      <th>m_wwbb</th>\n",
       "    </tr>\n",
       "  </thead>\n",
       "  <tbody>\n",
       "    <tr>\n",
       "      <th>0</th>\n",
       "      <td>1</td>\n",
       "      <td>58.814354</td>\n",
       "      <td>-1.223199</td>\n",
       "      <td>1.290717</td>\n",
       "      <td>26.435696</td>\n",
       "      <td>2.608772</td>\n",
       "      <td>68.413330</td>\n",
       "      <td>0.639561</td>\n",
       "      <td>-1.226549</td>\n",
       "      <td>1.000008</td>\n",
       "      <td>...</td>\n",
       "      <td>-1.195189</td>\n",
       "      <td>1.767687</td>\n",
       "      <td>0.000000</td>\n",
       "      <td>72.190338</td>\n",
       "      <td>170.810608</td>\n",
       "      <td>78.644196</td>\n",
       "      <td>224.813538</td>\n",
       "      <td>95.737434</td>\n",
       "      <td>372.835388</td>\n",
       "      <td>469.654236</td>\n",
       "    </tr>\n",
       "    <tr>\n",
       "      <th>1</th>\n",
       "      <td>2</td>\n",
       "      <td>21.390781</td>\n",
       "      <td>-0.468277</td>\n",
       "      <td>-1.371404</td>\n",
       "      <td>57.185963</td>\n",
       "      <td>1.214130</td>\n",
       "      <td>118.127953</td>\n",
       "      <td>-0.113784</td>\n",
       "      <td>-2.182008</td>\n",
       "      <td>0.000000</td>\n",
       "      <td>...</td>\n",
       "      <td>0.965376</td>\n",
       "      <td>2.698023</td>\n",
       "      <td>1.000000</td>\n",
       "      <td>62.736309</td>\n",
       "      <td>215.426300</td>\n",
       "      <td>73.971413</td>\n",
       "      <td>211.729141</td>\n",
       "      <td>195.910385</td>\n",
       "      <td>310.480103</td>\n",
       "      <td>431.597137</td>\n",
       "    </tr>\n",
       "    <tr>\n",
       "      <th>2</th>\n",
       "      <td>3</td>\n",
       "      <td>58.570217</td>\n",
       "      <td>1.443092</td>\n",
       "      <td>0.105191</td>\n",
       "      <td>54.450954</td>\n",
       "      <td>-2.354347</td>\n",
       "      <td>26.443583</td>\n",
       "      <td>-1.911658</td>\n",
       "      <td>1.337635</td>\n",
       "      <td>0.000000</td>\n",
       "      <td>...</td>\n",
       "      <td>-2.212247</td>\n",
       "      <td>-2.609508</td>\n",
       "      <td>0.000000</td>\n",
       "      <td>48.172768</td>\n",
       "      <td>163.506821</td>\n",
       "      <td>106.111038</td>\n",
       "      <td>260.643646</td>\n",
       "      <td>351.328644</td>\n",
       "      <td>638.053040</td>\n",
       "      <td>790.960815</td>\n",
       "    </tr>\n",
       "    <tr>\n",
       "      <th>3</th>\n",
       "      <td>4</td>\n",
       "      <td>70.469345</td>\n",
       "      <td>0.166176</td>\n",
       "      <td>-1.962429</td>\n",
       "      <td>38.138966</td>\n",
       "      <td>2.564890</td>\n",
       "      <td>42.678413</td>\n",
       "      <td>-1.256608</td>\n",
       "      <td>-0.276156</td>\n",
       "      <td>2.000000</td>\n",
       "      <td>...</td>\n",
       "      <td>-0.007441</td>\n",
       "      <td>3.048725</td>\n",
       "      <td>2.000023</td>\n",
       "      <td>99.099815</td>\n",
       "      <td>158.532227</td>\n",
       "      <td>79.701500</td>\n",
       "      <td>169.550491</td>\n",
       "      <td>96.056900</td>\n",
       "      <td>305.073212</td>\n",
       "      <td>402.656067</td>\n",
       "    </tr>\n",
       "    <tr>\n",
       "      <th>4</th>\n",
       "      <td>5</td>\n",
       "      <td>113.456779</td>\n",
       "      <td>0.232503</td>\n",
       "      <td>2.941150</td>\n",
       "      <td>64.401146</td>\n",
       "      <td>1.125812</td>\n",
       "      <td>164.289139</td>\n",
       "      <td>-0.735258</td>\n",
       "      <td>-0.590741</td>\n",
       "      <td>1.999937</td>\n",
       "      <td>...</td>\n",
       "      <td>-0.943712</td>\n",
       "      <td>1.599526</td>\n",
       "      <td>2.000023</td>\n",
       "      <td>50.816051</td>\n",
       "      <td>200.099945</td>\n",
       "      <td>130.013855</td>\n",
       "      <td>187.637009</td>\n",
       "      <td>142.145920</td>\n",
       "      <td>433.032440</td>\n",
       "      <td>507.496399</td>\n",
       "    </tr>\n",
       "  </tbody>\n",
       "</table>\n",
       "<p>5 rows × 29 columns</p>\n",
       "</div>"
      ],
      "text/plain": [
       "   event_id   lepton_pt  lepton_eta  lepton_phi     mem_pt   mem_phi  \\\n",
       "0         1   58.814354   -1.223199    1.290717  26.435696  2.608772   \n",
       "1         2   21.390781   -0.468277   -1.371404  57.185963  1.214130   \n",
       "2         3   58.570217    1.443092    0.105191  54.450954 -2.354347   \n",
       "3         4   70.469345    0.166176   -1.962429  38.138966  2.564890   \n",
       "4         5  113.456779    0.232503    2.941150  64.401146  1.125812   \n",
       "\n",
       "      jet1_pt  jet1_eta  jet1_phi  jet1_btag     ...      jet4_eta  jet4_phi  \\\n",
       "0   68.413330  0.639561 -1.226549   1.000008     ...     -1.195189  1.767687   \n",
       "1  118.127953 -0.113784 -2.182008   0.000000     ...      0.965376  2.698023   \n",
       "2   26.443583 -1.911658  1.337635   0.000000     ...     -2.212247 -2.609508   \n",
       "3   42.678413 -1.256608 -0.276156   2.000000     ...     -0.007441  3.048725   \n",
       "4  164.289139 -0.735258 -0.590741   1.999937     ...     -0.943712  1.599526   \n",
       "\n",
       "   jet4_btag       m_jj       m_jjj        m_lv       m_jlv        m_bb  \\\n",
       "0   0.000000  72.190338  170.810608   78.644196  224.813538   95.737434   \n",
       "1   1.000000  62.736309  215.426300   73.971413  211.729141  195.910385   \n",
       "2   0.000000  48.172768  163.506821  106.111038  260.643646  351.328644   \n",
       "3   2.000023  99.099815  158.532227   79.701500  169.550491   96.056900   \n",
       "4   2.000023  50.816051  200.099945  130.013855  187.637009  142.145920   \n",
       "\n",
       "        m_wbb      m_wwbb  \n",
       "0  372.835388  469.654236  \n",
       "1  310.480103  431.597137  \n",
       "2  638.053040  790.960815  \n",
       "3  305.073212  402.656067  \n",
       "4  433.032440  507.496399  \n",
       "\n",
       "[5 rows x 29 columns]"
      ]
     },
     "execution_count": 8,
     "metadata": {},
     "output_type": "execute_result"
    }
   ],
   "source": [
    "test.head()"
   ]
  },
  {
   "cell_type": "markdown",
   "metadata": {},
   "source": [
    "### Define training features\n",
    "\n",
    "Exclude `event_id`, `target` from the features set"
   ]
  },
  {
   "cell_type": "code",
   "execution_count": 9,
   "metadata": {
    "collapsed": false
   },
   "outputs": [
    {
     "data": {
      "text/plain": [
       "['jet3_pt',\n",
       " 'jet3_eta',\n",
       " 'm_jjj',\n",
       " 'mem_phi',\n",
       " 'jet1_pt',\n",
       " 'jet4_phi',\n",
       " 'jet1_phi',\n",
       " 'jet2_eta',\n",
       " 'jet3_btag',\n",
       " 'm_jlv',\n",
       " 'm_wbb',\n",
       " 'jet4_pt',\n",
       " 'jet4_btag',\n",
       " 'jet2_pt',\n",
       " 'jet1_btag',\n",
       " 'm_jj',\n",
       " 'm_wwbb',\n",
       " 'jet2_phi',\n",
       " 'lepton_phi',\n",
       " 'm_bb',\n",
       " 'm_lv',\n",
       " 'jet4_eta',\n",
       " 'jet2_btag',\n",
       " 'lepton_pt',\n",
       " 'mem_pt',\n",
       " 'lepton_eta',\n",
       " 'jet3_phi',\n",
       " 'jet1_eta']"
      ]
     },
     "execution_count": 9,
     "metadata": {},
     "output_type": "execute_result"
    }
   ],
   "source": [
    "features = list(set(data.columns) - {'event_id', 'target'})\n",
    "features"
   ]
  },
  {
   "cell_type": "markdown",
   "metadata": {},
   "source": [
    "### Prepare high-level features for training"
   ]
  },
  {
   "cell_type": "code",
   "execution_count": 10,
   "metadata": {
    "collapsed": false
   },
   "outputs": [],
   "source": [
    "high_level_features = ['m_jj', 'm_jjj', 'm_jlv', 'm_wwbb', 'm_bb', 'm_wbb', 'm_lv']"
   ]
  },
  {
   "cell_type": "markdown",
   "metadata": {},
   "source": [
    "### Plot histograms for each high-level feature"
   ]
  },
  {
   "cell_type": "code",
   "execution_count": 11,
   "metadata": {
    "collapsed": false
   },
   "outputs": [
    {
     "data": {
      "image/png": "[encoded data removed]",
      "text/plain": [
       "<matplotlib.figure.Figure at 0x7fa7c05ef350>"
      ]
     },
     "metadata": {},
     "output_type": "display_data"
    }
   ],
   "source": [
    "hist_params = {'normed': True, 'bins': 60, 'alpha': 0.4}\n",
    "# create the figure\n",
    "plt.figure(figsize=(16, 25))\n",
    "for n, feature in enumerate(high_level_features):\n",
    "    # add sub plot on our figure\n",
    "    plt.subplot(len(features) // 5 + 1, 3, n+1)\n",
    "    # define range for histograms by cutting 1% of data from both ends\n",
    "    min_value, max_value = numpy.percentile(data[feature], [1, 99])\n",
    "    plt.hist(data.ix[data.target.values == 0, feature].values, range=(min_value, max_value), \n",
    "             label='class 0', **hist_params)\n",
    "    plt.hist(data.ix[data.target.values == 1, feature].values, range=(min_value, max_value), \n",
    "             label='class 1', **hist_params)\n",
    "    plt.legend(loc='best')\n",
    "    plt.title(feature)"
   ]
  },
  {
   "cell_type": "markdown",
   "metadata": {},
   "source": [
    "### Divide training data into 2 parts \n",
    "`train_test_split` function is used to divide into 2 parts to preserve quality overestimating."
   ]
  },
  {
   "cell_type": "code",
   "execution_count": 167,
   "metadata": {
    "collapsed": false
   },
   "outputs": [],
   "source": [
    "training_data, validation_data = train_test_split(data, random_state=11, train_size=0.66)"
   ]
  },
  {
   "cell_type": "markdown",
   "metadata": {},
   "source": [
    "### Simple knn from `sklearn` training"
   ]
  },
  {
   "cell_type": "code",
   "execution_count": 13,
   "metadata": {
    "collapsed": false
   },
   "outputs": [
    {
     "data": {
      "text/plain": [
       "KNeighborsClassifier(algorithm='auto', leaf_size=30, metric='minkowski',\n",
       "           metric_params=None, n_jobs=1, n_neighbors=6, p=2,\n",
       "           weights='uniform')"
      ]
     },
     "execution_count": 13,
     "metadata": {},
     "output_type": "execute_result"
    }
   ],
   "source": [
    "from sklearn.neighbors import KNeighborsClassifier\n",
    "knn = KNeighborsClassifier(n_neighbors=6)\n",
    "knn.fit(training_data[high_level_features], training_data.target)"
   ]
  },
  {
   "cell_type": "code",
   "execution_count": 14,
   "metadata": {
    "collapsed": false
   },
   "outputs": [],
   "source": [
    "# predict validation sample (probability for each event)\n",
    "proba = knn.predict_proba(validation_data[high_level_features])"
   ]
  },
  {
   "cell_type": "code",
   "execution_count": 15,
   "metadata": {
    "collapsed": false
   },
   "outputs": [
    {
     "data": {
      "text/plain": [
       "array([[ 0.33333333,  0.66666667],\n",
       "       [ 0.33333333,  0.66666667],\n",
       "       [ 1.        ,  0.        ],\n",
       "       ..., \n",
       "       [ 0.66666667,  0.33333333],\n",
       "       [ 0.5       ,  0.5       ],\n",
       "       [ 0.66666667,  0.33333333]])"
      ]
     },
     "execution_count": 15,
     "metadata": {},
     "output_type": "execute_result"
    }
   ],
   "source": [
    "proba"
   ]
  },
  {
   "cell_type": "markdown",
   "metadata": {},
   "source": [
    "### Compute quality (ROC AUC) on the validation set (to prevent overestimating quality)"
   ]
  },
  {
   "cell_type": "code",
   "execution_count": 16,
   "metadata": {
    "collapsed": false
   },
   "outputs": [
    {
     "data": {
      "text/plain": [
       "0.70958288471424869"
      ]
     },
     "execution_count": 16,
     "metadata": {},
     "output_type": "execute_result"
    }
   ],
   "source": [
    "# take probability to be 1 class to compute ROC AUC\n",
    "roc_auc_score(validation_data.target, proba[:, 1])"
   ]
  },
  {
   "cell_type": "code",
   "execution_count": 38,
   "metadata": {
    "collapsed": false
   },
   "outputs": [],
   "source": [
    "from sklearn.cross_validation import cross_val_score\n",
    "import numpy as np\n",
    "\n",
    "def get_mean_cross_val_score(estimator, X, Y, scoring=\"roc_auc\", cv=6, n_jobs=6, *args, **kwargs):\n",
    "    \"\"\"Returns the mean cross validtion score and its standart deviation\"\"\"\n",
    "    cv_scores = cross_val_score(estimator, X, Y, scoring=scoring, cv=cv, n_jobs=n_jobs, *args, **kwargs)\n",
    "    return (np.mean(cv_scores), np.std(cv_scores))"
   ]
  },
  {
   "cell_type": "code",
   "execution_count": 45,
   "metadata": {
    "collapsed": false
   },
   "outputs": [],
   "source": [
    "from sklearn.tree import DecisionTreeClassifier\n",
    "from sklearn.svm import SVC\n",
    "from sklearn.ensemble import GradientBoostingClassifier"
   ]
  },
  {
   "cell_type": "code",
   "execution_count": 52,
   "metadata": {
    "collapsed": false
   },
   "outputs": [
    {
     "name": "stdout",
     "output_type": "stream",
     "text": [
      "(0.71554143194319497, 0.010929800383352627)\n",
      "(0.71206560446131295, 0.014758126407253967)\n",
      "(0.75562718297473752, 0.010343664536168109)\n"
     ]
    }
   ],
   "source": [
    "print get_mean_cross_val_score(DecisionTreeClassifier(max_depth=len(high_level_features)-1), data[high_level_features], data.target)\n",
    "print get_mean_cross_val_score(KNeighborsClassifier(n_neighbors=len(high_level_features)-1), data[high_level_features], data.target)\n",
    "print get_mean_cross_val_score(GradientBoostingClassifier(), data[high_level_features], data.target)"
   ]
  },
  {
   "cell_type": "code",
   "execution_count": 55,
   "metadata": {
    "collapsed": false
   },
   "outputs": [
    {
     "name": "stderr",
     "output_type": "stream",
     "text": [
      "\r\n",
      "tab completion not implemented for this context\r\n"
     ]
    }
   ],
   "source": [
    "from sklearn.cross_validation import cross_val_predict\n",
    "\n",
    "def cv_check(clf, features):\n",
    "    print get_mean_cross_val_score(clf, data[features], data.target)\n",
    "\n",
    "def cv_predict(clf, features):\n",
    "    return cross_val_predict(clf, test[features], cv=6, n_jobs=6)[:,1]\n"
   ]
  },
  {
   "cell_type": "markdown",
   "metadata": {},
   "source": [
    "## Test"
   ]
  },
  {
   "cell_type": "code",
   "execution_count": 196,
   "metadata": {
    "collapsed": false
   },
   "outputs": [],
   "source": [
    "from sklearn.base import BaseEstimator\n",
    "from sklearn.cross_validation import StratifiedKFold\n",
    "from sklearn.metrics import roc_auc_score\n",
    "\n",
    "class CVEstimator(BaseEstimator):\n",
    "    def __init__(self, cv, est_type, args={}):\n",
    "        self.cv = cv\n",
    "        self.estimator_type = est_type\n",
    "        self.estimator_args = args\n",
    "        \n",
    "        self.estimators = [est_type(**args) for _ in xrange(self.cv)]\n",
    "        \n",
    "    def fit(self, x, y):\n",
    "        skf = StratifiedKFold(y.copy(), self.cv)\n",
    "        \n",
    "        self.scores = []\n",
    "        \n",
    "        for i, train_test in enumerate(skf):\n",
    "            est = self.estimators[i]\n",
    "            train, test = train_test\n",
    "            \n",
    "            est.fit(x.iloc[train], y.iloc[train])\n",
    "            \n",
    "            pred = est.predict_proba(x.iloc[test])[:,1]\n",
    "            score = roc_auc_score(y.iloc[test], pred)\n",
    "            self.scores.append(score)\n",
    "        \n",
    "        return self\n",
    "    \n",
    "    def predict_proba(self, x):\n",
    "        pred = None\n",
    "        \n",
    "        for est in self.estimators:\n",
    "            this_pred = est.predict_proba(x)\n",
    "            if pred is None:\n",
    "                pred = this_pred\n",
    "            else:\n",
    "                pred += this_pred\n",
    "        \n",
    "        pred /= self.cv\n",
    "        return pred"
   ]
  },
  {
   "cell_type": "code",
   "execution_count": 202,
   "metadata": {
    "collapsed": false
   },
   "outputs": [],
   "source": [
    "def check_cve(features, *args, **kwargs):\n",
    "    cve = CVEstimator(*args, **kwargs)\n",
    "    \n",
    "    cve.fit(training_data[features], training_data.target)\n",
    "    pred = cve.predict_proba(validation_data[features])\n",
    "    print roc_auc_score(validation_data.target, pred[:,1])\n",
    "    \n",
    "    return cve"
   ]
  },
  {
   "cell_type": "code",
   "execution_count": 197,
   "metadata": {
    "collapsed": false
   },
   "outputs": [
    {
     "data": {
      "text/plain": [
       "CVEstimator(args=None, cv=6, est_type=None)"
      ]
     },
     "execution_count": 197,
     "metadata": {},
     "output_type": "execute_result"
    }
   ],
   "source": [
    "cve = CVEstimator(6, GradientBoostingClassifier, {'max_depth':6})\n",
    "cve.fit(training_data[high_level_features], training_data.target)\n"
   ]
  },
  {
   "cell_type": "code",
   "execution_count": 199,
   "metadata": {
    "collapsed": false
   },
   "outputs": [],
   "source": [
    "pred = cve.predict_proba(validation_data[high_level_features])"
   ]
  },
  {
   "cell_type": "code",
   "execution_count": 200,
   "metadata": {
    "collapsed": false
   },
   "outputs": [
    {
     "data": {
      "text/plain": [
       "0.76189723955496991"
      ]
     },
     "execution_count": 200,
     "metadata": {},
     "output_type": "execute_result"
    }
   ],
   "source": [
    "roc_auc_score(validation_data.target, pred[:,1])"
   ]
  },
  {
   "cell_type": "code",
   "execution_count": 203,
   "metadata": {
    "collapsed": false
   },
   "outputs": [
    {
     "name": "stdout",
     "output_type": "stream",
     "text": [
      "0.761642617912\n",
      "0.775774638714\n"
     ]
    },
    {
     "data": {
      "text/plain": [
       "CVEstimator(args=None, cv=6, est_type=None)"
      ]
     },
     "execution_count": 203,
     "metadata": {},
     "output_type": "execute_result"
    },
    {
     "name": "stderr",
     "output_type": "stream",
     "text": [
      "\r\n",
      "tab completion not implemented for this context\r\n",
      "\r\n",
      "tab completion not implemented for this context\r\n",
      "\r\n",
      "tab completion not implemented for this context\r\n",
      "\r\n",
      "tab completion not implemented for this context\r\n",
      "\r\n",
      "tab completion not implemented for this context\r\n",
      "\r\n",
      "tab completion not implemented for this context\r\n",
      "\r\n",
      "tab completion not implemented for this context\r\n",
      "\r\n",
      "tab completion not implemented for this context\r\n",
      "\r\n",
      "tab completion not implemented for this context\r\n",
      "\r\n",
      "tab completion not implemented for this context\r\n",
      "\r\n",
      "tab completion not implemented for this context\r\n",
      "\r\n",
      "tab completion not implemented for this context\r\n",
      "\r\n",
      "tab completion not implemented for this context\r\n"
     ]
    }
   ],
   "source": [
    "check_cve(high_level_features, 6, GradientBoostingClassifier, {'max_depth': 6})\n",
    "check_cve(features, 6, GradientBoostingClassifier, {'max_depth': 6})"
   ]
  },
  {
   "cell_type": "markdown",
   "metadata": {},
   "source": [
    "## Prepare submission to kaggle"
   ]
  },
  {
   "cell_type": "code",
   "execution_count": 205,
   "metadata": {
    "collapsed": false
   },
   "outputs": [
    {
     "name": "stdout",
     "output_type": "stream",
     "text": [
      "0.773381195274\n",
      "[ 0.49595922  0.52166576  0.07249192 ...,  0.67861348  0.73680972\n",
      "  0.40520489]\n"
     ]
    }
   ],
   "source": [
    "# predict test sample\n",
    "\n",
    "cve = check_cve(features, 6, GradientBoostingClassifier, {'max_depth': 6})\n",
    "\n",
    "kaggle_proba = cve.predict_proba(test[features])[:, 1]\n",
    "kaggle_ids = test.event_id\n",
    "\n",
    "print kaggle_proba"
   ]
  },
  {
   "cell_type": "code",
   "execution_count": 206,
   "metadata": {
    "collapsed": false
   },
   "outputs": [
    {
     "data": {
      "text/html": [
       "<a href='datasets/baseline.csv' target='_blank'>datasets/baseline.csv</a><br>"
      ],
      "text/plain": [
       "/home/jan/work/mlhep/mlhep2016/higgs_kaggle/datasets/baseline.csv"
      ]
     },
     "execution_count": 206,
     "metadata": {},
     "output_type": "execute_result"
    }
   ],
   "source": [
    "from IPython.display import FileLink\n",
    "def create_solution(ids, proba, filename='baseline.csv'):\n",
    "    \"\"\"saves predictions to file and provides a link for downloading \"\"\"\n",
    "    pandas.DataFrame({'event_id': ids, 'prediction': proba}).to_csv('datasets/{}'.format(filename), index=False)\n",
    "    return FileLink('datasets/{}'.format(filename))\n",
    "    \n",
    "create_solution(kaggle_ids, kaggle_proba)"
   ]
  },
  {
   "cell_type": "code",
   "execution_count": null,
   "metadata": {
    "collapsed": true
   },
   "outputs": [],
   "source": []
  }
 ],
 "metadata": {
  "kernelspec": {
   "display_name": "Python 2",
   "language": "python2",
   "name": "python2"
  },
  "language_info": {
   "codemirror_mode": {
    "name": "ipython",
    "version": 2
   },
   "file_extension": ".py",
   "mimetype": "text/x-python",
   "name": "python",
   "nbconvert_exporter": "python",
   "pygments_lexer": "ipython2",
   "version": "2.7.11"
  }
 },
 "nbformat": 4,
 "nbformat_minor": 0
}
