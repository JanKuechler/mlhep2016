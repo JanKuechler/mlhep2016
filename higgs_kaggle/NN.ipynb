{
 "cells": [
  {
   "cell_type": "markdown",
   "metadata": {},
   "source": [
    "### Mind the backend\n",
    "This seminar was meant for taito-GPU cluster and __not the Everware__ nodes you used throughout the course.\n",
    "\n",
    "- One can still run it on Everware node after changing data paths, but it will probably take longer without a GPU"
   ]
  },
  {
   "cell_type": "code",
   "execution_count": 8,
   "metadata": {
    "collapsed": false
   },
   "outputs": [
    {
     "name": "stdout",
     "output_type": "stream",
     "text": [
      "random GPU roll:  3\n"
     ]
    }
   ],
   "source": [
    "import random\n",
    "gpuid = random.randint(0,3)\n",
    "import os\n",
    "print \"random GPU roll: \",gpuid\n",
    "os.environ[\"THEANO_FLAGS\"]=\"device=gpu%i\"%gpuid\n"
   ]
  },
  {
   "cell_type": "code",
   "execution_count": 9,
   "metadata": {
    "collapsed": false
   },
   "outputs": [],
   "source": [
    "import matplotlib.pyplot as plt\n",
    "%matplotlib inline\n",
    "import numpy as np\n",
    "import theano\n",
    "import theano.tensor as T\n",
    "import lasagne"
   ]
  },
  {
   "cell_type": "markdown",
   "metadata": {},
   "source": [
    "# Load the challenge data\n",
    "* Currently we are using raw data features with no preprocessing in hope that NN figures that out\n",
    "* One may try any feature engineering he wants"
   ]
  },
  {
   "cell_type": "code",
   "execution_count": 31,
   "metadata": {
    "collapsed": false
   },
   "outputs": [],
   "source": [
    "import pandas as pd\n",
    "#df = pd.DataFrame.from_csv(\"/homeappl/home/austyuzh/data/train.csv\",)\n",
    "\n",
    "test = pd.read_csv(\"/homeappl/home/austyuzh/data/public_test.csv\")"
   ]
  },
  {
   "cell_type": "code",
   "execution_count": 11,
   "metadata": {
    "collapsed": false
   },
   "outputs": [],
   "source": [
    "def dphi(phi1, phi2):\n",
    "    \"Return the angular difference in the range [-pi,pi)\"\n",
    "    dphi = (phi1 - phi2 + np.pi) % (2 * np.pi) - np.pi\n",
    "    return dphi\n",
    "\n",
    "def dr(eta1, eta2, phi1, phi2):\n",
    "    \"Return the eta-phi distance\"\n",
    "    return np.sqrt((eta1-eta2)**2 + dphi(phi1,phi2)**2)\n",
    "\n",
    "real_objects = ['lepton', 'jet1', 'jet2', 'jet3', 'jet4']\n",
    "objects = real_objects + ['mem']\n",
    "\n",
    "def add_features(data):\n",
    "    data['ht'] = data['jet1_pt'] + data['jet2_pt'] + data['jet3_pt'] + data['jet4_pt']\n",
    "    data['meff'] = data['jet1_pt'] + data['jet2_pt'] + data['jet3_pt'] + data['jet4_pt'] + data['lepton_pt'] + data['mem_pt']\n",
    "    data['rt'] = data['meff'] / data['m_wwbb']\n",
    "    data['delta_m'] = np.abs(data['m_jjj'] - data['m_jlv'])\n",
    "    \n",
    "    variables = ['ht', 'meff', 'rt', 'delta_m']\n",
    "    \n",
    "    data['dr_j12'] = dr(data['jet1_eta'], data['jet2_eta'], data['jet1_phi'], data['jet2_phi'])\n",
    "    data['dr_j34'] = dr(data['jet3_eta'], data['jet4_eta'], data['jet3_phi'], data['jet4_phi'])\n",
    "    \n",
    "    variables += ['dr_j12', 'dr_j34']\n",
    "    \n",
    "    for i in [1,2,3,4]:\n",
    "        data['dr_lj%d' % i] = dr(data['jet%d_eta' % i], data['lepton_eta'], data['jet%d_phi' % i], data['lepton_phi'])\n",
    "        data['dphi_met_j%d' % i] = np.abs(dphi(data['mem_phi'], data['jet%d_phi' % i]))\n",
    "\n",
    "        variables += ['dr_lj%d' % i, 'dphi_met_j%d' % i]\n",
    "        \n",
    "    data['max_dr_lj'] = np.maximum(np.maximum(data['dr_lj1'], data['dr_lj2']),\n",
    "                                   np.maximum(data['dr_lj3'], data['dr_lj4']))\n",
    "    data['min_dr_lj'] = np.minimum(np.minimum(data['dr_lj1'], data['dr_lj2']),\n",
    "                                   np.minimum(data['dr_lj3'], data['dr_lj4']))   \n",
    "\n",
    "    data['max_dphi_met_j'] = np.maximum(np.maximum(data['dphi_met_j1'], data['dphi_met_j2']),\n",
    "                                        np.maximum(data['dphi_met_j3'], data['dphi_met_j4']))\n",
    "    data['min_dphi_met_j'] = np.minimum(np.minimum(data['dphi_met_j1'], data['dphi_met_j2']),\n",
    "                                        np.minimum(data['dphi_met_j3'], data['dphi_met_j4']))\n",
    "\n",
    "    variables += ['max_dr_lj', 'min_dr_lj', 'max_dphi_met_j', 'min_dphi_met_j']\n",
    "\n",
    "    data['max_jet_pt'] = np.maximum(np.maximum(data['jet1_pt'], data['jet2_pt']),\n",
    "                                    np.maximum(data['jet3_pt'], data['jet4_pt']))\n",
    "    data['min_jet_pt'] = np.minimum(np.minimum(data['jet1_pt'], data['jet2_pt']),\n",
    "                                    np.minimum(data['jet3_pt'], data['jet4_pt']))       \n",
    "    \n",
    "    variables += ['max_jet_pt', 'min_jet_pt']\n",
    "    \n",
    "    for obj in real_objects:\n",
    "        data['%s_abs_eta' % obj] = np.abs(data['%s_eta' % obj])\n",
    "        variables.append('%s_abs_eta' % obj)\n",
    "        \n",
    "        for obj2 in ['lepton']:\n",
    "            if obj == obj2:\n",
    "                continue\n",
    "            \n",
    "            dphi_name = \"dphi_%s_%s\" % (obj, obj2)\n",
    "            deta_name = \"deta_%s_%s\" % (obj, obj2)\n",
    "            \n",
    "            data[dphi_name] = np.abs(dphi(data['%s_phi' % obj], data['%s_phi' % obj2]))\n",
    "            data[deta_name] = np.abs(data['%s_eta' % obj] - data['%s_eta' % obj2])\n",
    "            \n",
    "            variables += [dphi_name, deta_name]\n",
    "    \n",
    "    return variables\n",
    "\n",
    "new_features = add_features(df)"
   ]
  },
  {
   "cell_type": "code",
   "execution_count": 32,
   "metadata": {
    "collapsed": false
   },
   "outputs": [
    {
     "data": {
      "text/plain": [
       "['ht',\n",
       " 'meff',\n",
       " 'rt',\n",
       " 'delta_m',\n",
       " 'dr_j12',\n",
       " 'dr_j34',\n",
       " 'dr_lj1',\n",
       " 'dphi_met_j1',\n",
       " 'dr_lj2',\n",
       " 'dphi_met_j2',\n",
       " 'dr_lj3',\n",
       " 'dphi_met_j3',\n",
       " 'dr_lj4',\n",
       " 'dphi_met_j4',\n",
       " 'max_dr_lj',\n",
       " 'min_dr_lj',\n",
       " 'max_dphi_met_j',\n",
       " 'min_dphi_met_j',\n",
       " 'max_jet_pt',\n",
       " 'min_jet_pt',\n",
       " 'lepton_abs_eta',\n",
       " 'jet1_abs_eta',\n",
       " 'dphi_jet1_lepton',\n",
       " 'deta_jet1_lepton',\n",
       " 'jet2_abs_eta',\n",
       " 'dphi_jet2_lepton',\n",
       " 'deta_jet2_lepton',\n",
       " 'jet3_abs_eta',\n",
       " 'dphi_jet3_lepton',\n",
       " 'deta_jet3_lepton',\n",
       " 'jet4_abs_eta',\n",
       " 'dphi_jet4_lepton',\n",
       " 'deta_jet4_lepton']"
      ]
     },
     "execution_count": 32,
     "metadata": {},
     "output_type": "execute_result"
    }
   ],
   "source": [
    "add_features(test)"
   ]
  },
  {
   "cell_type": "code",
   "execution_count": 12,
   "metadata": {
    "collapsed": true
   },
   "outputs": [],
   "source": [
    "features = [u'lepton_pt', u'lepton_eta', u'lepton_phi', u'mem_pt', u'mem_phi',\n",
    "       u'jet1_pt', u'jet1_eta', u'jet1_phi', u'jet1_btag', u'jet2_pt',\n",
    "       u'jet2_eta', u'jet2_phi', u'jet2_btag', u'jet3_pt', u'jet3_eta',\n",
    "       u'jet3_phi', u'jet3_btag', u'jet4_pt', u'jet4_eta', u'jet4_phi',\n",
    "       u'jet4_btag', u'm_jj', u'm_jjj', u'm_lv', u'm_jlv', u'm_bb', u'm_wbb',\n",
    "       u'm_wwbb']\n",
    "\n",
    "all_features = features + new_features\n",
    "n_features = len(all_features)"
   ]
  },
  {
   "cell_type": "code",
   "execution_count": 33,
   "metadata": {
    "collapsed": false
   },
   "outputs": [],
   "source": [
    "#y = df['target'].values==1\n",
    "#X = df[df.columns[1:]].values.astype(theano.config.floatX)\n",
    "\n",
    "test_X = test[df.columns[1:]].values.astype(theano.config.floatX)"
   ]
  },
  {
   "cell_type": "code",
   "execution_count": 14,
   "metadata": {
    "collapsed": false
   },
   "outputs": [],
   "source": [
    "from sklearn.cross_validation import train_test_split\n",
    "X_train,X_val,y_train,y_val = train_test_split(X,y,random_state=11, train_size=0.9)"
   ]
  },
  {
   "cell_type": "code",
   "execution_count": 15,
   "metadata": {
    "collapsed": false
   },
   "outputs": [
    {
     "data": {
      "text/plain": [
       "[u'lepton_pt',\n",
       " u'lepton_eta',\n",
       " u'lepton_phi',\n",
       " u'mem_pt',\n",
       " u'mem_phi',\n",
       " u'jet1_pt',\n",
       " u'jet1_eta',\n",
       " u'jet1_phi',\n",
       " u'jet1_btag',\n",
       " u'jet2_pt',\n",
       " u'jet2_eta',\n",
       " u'jet2_phi',\n",
       " u'jet2_btag',\n",
       " u'jet3_pt',\n",
       " u'jet3_eta',\n",
       " u'jet3_phi',\n",
       " u'jet3_btag',\n",
       " u'jet4_pt',\n",
       " u'jet4_eta',\n",
       " u'jet4_phi',\n",
       " u'jet4_btag',\n",
       " u'm_jj',\n",
       " u'm_jjj',\n",
       " u'm_lv',\n",
       " u'm_jlv',\n",
       " u'm_bb',\n",
       " u'm_wbb',\n",
       " u'm_wwbb',\n",
       " 'ht',\n",
       " 'meff',\n",
       " 'rt',\n",
       " 'delta_m',\n",
       " 'dr_j12',\n",
       " 'dr_j34',\n",
       " 'dr_lj1',\n",
       " 'dphi_met_j1',\n",
       " 'dr_lj2',\n",
       " 'dphi_met_j2',\n",
       " 'dr_lj3',\n",
       " 'dphi_met_j3',\n",
       " 'dr_lj4',\n",
       " 'dphi_met_j4',\n",
       " 'max_dr_lj',\n",
       " 'min_dr_lj',\n",
       " 'max_dphi_met_j',\n",
       " 'min_dphi_met_j',\n",
       " 'max_jet_pt',\n",
       " 'min_jet_pt',\n",
       " 'lepton_abs_eta',\n",
       " 'jet1_abs_eta',\n",
       " 'dphi_jet1_lepton',\n",
       " 'deta_jet1_lepton',\n",
       " 'jet2_abs_eta',\n",
       " 'dphi_jet2_lepton',\n",
       " 'deta_jet2_lepton',\n",
       " 'jet3_abs_eta',\n",
       " 'dphi_jet3_lepton',\n",
       " 'deta_jet3_lepton',\n",
       " 'jet4_abs_eta',\n",
       " 'dphi_jet4_lepton',\n",
       " 'deta_jet4_lepton']"
      ]
     },
     "execution_count": 15,
     "metadata": {},
     "output_type": "execute_result"
    }
   ],
   "source": [
    "df[df.columns[1:]].columns\n",
    "all_features"
   ]
  },
  {
   "cell_type": "markdown",
   "metadata": {
    "collapsed": true
   },
   "source": [
    "# NN architecture\n",
    " * We take a simple NN with __3 hidden layers__:\n",
    "     * Layers must contain 500 hidden units each\n",
    "     * Layers must use __tanh__ nonlinearity\n",
    " * structure can be farther optimized, so feel free to experiment __after__ you got it working"
   ]
  },
  {
   "cell_type": "code",
   "execution_count": 16,
   "metadata": {
    "collapsed": false
   },
   "outputs": [],
   "source": [
    "input_X = T.matrix('input X')\n",
    "target_Y = T.ivector('target Y')"
   ]
  },
  {
   "cell_type": "code",
   "execution_count": 17,
   "metadata": {
    "collapsed": true
   },
   "outputs": [],
   "source": [
    "from lasagne.layers import InputLayer,DenseLayer,batch_norm,dropout"
   ]
  },
  {
   "cell_type": "code",
   "execution_count": 18,
   "metadata": {
    "collapsed": false
   },
   "outputs": [],
   "source": [
    "def maxout(incoming, num_units, ds, **kwargs):\n",
    "    l1a = lasagne.layers.DenseLayer(incoming, nonlinearity=None, num_units=num_units * ds, **kwargs)\n",
    "    l1 = lasagne.layers.FeaturePoolLayer(l1a, ds=ds)\n",
    "    return l1\n",
    "\n",
    "l_in = InputLayer([None, n_features],input_X,'input layer')\n",
    "\n",
    "n_hid = 1000\n",
    "p_drop = 0.2\n",
    "\n",
    "l_0 = lasagne.layers.BatchNormLayer(l_in, name=\"l_0\")\n",
    "\n",
    "l_1 = batch_norm(DenseLayer(l_0,\n",
    "                num_units=n_hid,\n",
    "                name='dense0',\n",
    "                nonlinearity=lasagne.nonlinearities.tanh))\n",
    "\n",
    "d_1 = dropout(l_1, p=p_drop)\n",
    "\n",
    "l_2 = batch_norm(DenseLayer(d_1,\n",
    "                num_units=n_hid,\n",
    "                name='dense1',\n",
    "                nonlinearity=lasagne.nonlinearities.tanh))\n",
    "\n",
    "d_2 = dropout(l_2, p=p_drop)\n",
    "\n",
    "l_3 = batch_norm(DenseLayer(d_2,\n",
    "                num_units=n_hid,\n",
    "                name='dense2',\n",
    "                nonlinearity=lasagne.nonlinearities.tanh))\n",
    "\n",
    "d_3 = dropout(l_3, p=p_drop)\n",
    "\n",
    "l_4 = batch_norm(DenseLayer(d_3,\n",
    "                num_units=n_hid,\n",
    "                name='dense3',\n",
    "                nonlinearity=lasagne.nonlinearities.tanh))\n",
    "\n",
    "d_4 = dropout(l_4, p=p_drop)\n",
    "\n",
    "l_5 = batch_norm(DenseLayer(d_4,\n",
    "                num_units=n_hid,\n",
    "                name='dense4',\n",
    "                nonlinearity=lasagne.nonlinearities.tanh))\n",
    "\n",
    "nn = DenseLayer(l_5,num_units=2,\n",
    "                name='dense_out',\n",
    "                nonlinearity=lasagne.nonlinearities.softmax,)"
   ]
  },
  {
   "cell_type": "code",
   "execution_count": 19,
   "metadata": {
    "collapsed": false
   },
   "outputs": [
    {
     "data": {
      "text/plain": [
       "[l_0.beta,\n",
       " l_0.gamma,\n",
       " dense0.W,\n",
       " dense0_bn.beta,\n",
       " dense0_bn.gamma,\n",
       " dense1.W,\n",
       " dense1_bn.beta,\n",
       " dense1_bn.gamma,\n",
       " dense2.W,\n",
       " dense2_bn.beta,\n",
       " dense2_bn.gamma,\n",
       " dense3.W,\n",
       " dense3_bn.beta,\n",
       " dense3_bn.gamma,\n",
       " dense4.W,\n",
       " dense4_bn.beta,\n",
       " dense4_bn.gamma,\n",
       " dense_out.W,\n",
       " dense_out.b]"
      ]
     },
     "execution_count": 19,
     "metadata": {},
     "output_type": "execute_result"
    }
   ],
   "source": [
    "weights = lasagne.layers.get_all_params(nn,trainable=True)\n",
    "weights"
   ]
  },
  {
   "cell_type": "markdown",
   "metadata": {},
   "source": [
    "# weight updates"
   ]
  },
  {
   "cell_type": "code",
   "execution_count": 20,
   "metadata": {
    "collapsed": true
   },
   "outputs": [],
   "source": [
    "nn_out = lasagne.layers.get_output(nn)\n",
    "loss = lasagne.objectives.categorical_crossentropy(nn_out, target_Y).mean()"
   ]
  },
  {
   "cell_type": "code",
   "execution_count": 21,
   "metadata": {
    "collapsed": false
   },
   "outputs": [],
   "source": [
    "updates =lasagne.updates.adadelta(loss,weights)\n",
    "train_fun = theano.function([input_X,target_Y],[loss,nn_out[:,1]],updates=updates)"
   ]
  },
  {
   "cell_type": "markdown",
   "metadata": {},
   "source": [
    "# deterministic predict"
   ]
  },
  {
   "cell_type": "code",
   "execution_count": 22,
   "metadata": {
    "collapsed": false
   },
   "outputs": [],
   "source": [
    "det_nn_out = lasagne.layers.get_output(nn,deterministic=True)\n",
    "det_loss = lasagne.objectives.categorical_crossentropy(det_nn_out,target_Y).mean()\n",
    "val_fun = theano.function([input_X,target_Y],[det_loss,nn_out[:,1]])"
   ]
  },
  {
   "cell_type": "markdown",
   "metadata": {},
   "source": [
    "# training loop\n",
    "* Almost identical to the original loop from previous seminar\n",
    "* The only difference is that now we keep track of NN performance across iterations"
   ]
  },
  {
   "cell_type": "code",
   "execution_count": 23,
   "metadata": {
    "collapsed": true
   },
   "outputs": [],
   "source": [
    "def iterate_minibatches(inputs, targets, batchsize, shuffle=True):\n",
    "    assert len(inputs) == len(targets)\n",
    "    if shuffle:\n",
    "        indices = np.arange(len(inputs))\n",
    "        np.random.shuffle(indices)\n",
    "    for start_idx in range(0, len(inputs) - batchsize + 1, batchsize):\n",
    "        if shuffle:\n",
    "            excerpt = indices[start_idx:start_idx + batchsize]\n",
    "        else:\n",
    "            excerpt = slice(start_idx, start_idx + batchsize)\n",
    "        yield inputs[excerpt], targets[excerpt]"
   ]
  },
  {
   "cell_type": "code",
   "execution_count": 24,
   "metadata": {
    "collapsed": true
   },
   "outputs": [],
   "source": [
    "train_auc_curve = []\n",
    "train_acc_curve = []\n",
    "val_auc_curve = []\n",
    "val_acc_curve = []"
   ]
  },
  {
   "cell_type": "code",
   "execution_count": 25,
   "metadata": {
    "collapsed": false
   },
   "outputs": [
    {
     "data": {
      "text/plain": [
       "'test'"
      ]
     },
     "execution_count": 25,
     "metadata": {},
     "output_type": "execute_result"
    }
   ],
   "source": [
    "\"test\""
   ]
  },
  {
   "cell_type": "code",
   "execution_count": 27,
   "metadata": {
    "collapsed": false
   },
   "outputs": [
    {
     "name": "stdout",
     "output_type": "stream",
     "text": [
      "Epoch 1 of 50 took 506.058s\n",
      "  training loss:\t\t0.526843\n",
      "  training accuracy:\t\t73.26 %\n",
      "  training AUCscore:\t\t81.10 %\n",
      "  validation loss:\t\t0.508119\n",
      "  validation accuracy:\t\t73.88 %\n",
      "  validation AUCscore:\t\t81.87 %\n",
      "Epoch 2 of 50 took 509.999s\n",
      "  training loss:\t\t0.512087\n",
      "  training accuracy:\t\t74.26 %\n",
      "  training AUCscore:\t\t82.31 %\n",
      "  validation loss:\t\t0.496198\n",
      "  validation accuracy:\t\t74.59 %\n",
      "  validation AUCscore:\t\t82.71 %\n",
      "Epoch 3 of 50 took 509.603s\n",
      "  training loss:\t\t0.504950\n",
      "  training accuracy:\t\t74.74 %\n",
      "  training AUCscore:\t\t82.88 %\n",
      "  validation loss:\t\t0.490412\n",
      "  validation accuracy:\t\t74.93 %\n",
      "  validation AUCscore:\t\t83.10 %\n",
      "Epoch 4 of 50 took 512.379s\n",
      "  training loss:\t\t0.499936\n",
      "  training accuracy:\t\t75.08 %\n",
      "  training AUCscore:\t\t83.27 %\n",
      "  validation loss:\t\t0.485585\n",
      "  validation accuracy:\t\t75.28 %\n",
      "  validation AUCscore:\t\t83.47 %\n",
      "Epoch 5 of 50 took 506.706s\n",
      "  training loss:\t\t0.496176\n",
      "  training accuracy:\t\t75.34 %\n",
      "  training AUCscore:\t\t83.56 %\n",
      "  validation loss:\t\t0.481820\n",
      "  validation accuracy:\t\t75.41 %\n",
      "  validation AUCscore:\t\t83.69 %\n",
      "Epoch 6 of 50 took 502.930s\n",
      "  training loss:\t\t0.493125\n",
      "  training accuracy:\t\t75.54 %\n",
      "  training AUCscore:\t\t83.79 %\n",
      "  validation loss:\t\t0.479489\n",
      "  validation accuracy:\t\t75.62 %\n",
      "  validation AUCscore:\t\t83.87 %\n",
      "Epoch 7 of 50 took 493.353s\n",
      "  training loss:\t\t0.490526\n",
      "  training accuracy:\t\t75.71 %\n",
      "  training AUCscore:\t\t83.99 %\n",
      "  validation loss:\t\t0.477546\n",
      "  validation accuracy:\t\t75.74 %\n",
      "  validation AUCscore:\t\t84.00 %\n",
      "Epoch 8 of 50 took 490.680s\n",
      "  training loss:\t\t0.488338\n",
      "  training accuracy:\t\t75.85 %\n",
      "  training AUCscore:\t\t84.15 %\n",
      "  validation loss:\t\t0.475020\n",
      "  validation accuracy:\t\t75.92 %\n",
      "  validation AUCscore:\t\t84.21 %\n",
      "Epoch 9 of 50 took 486.384s\n",
      "  training loss:\t\t0.486446\n",
      "  training accuracy:\t\t75.99 %\n",
      "  training AUCscore:\t\t84.29 %\n",
      "  validation loss:\t\t0.473396\n",
      "  validation accuracy:\t\t75.95 %\n",
      "  validation AUCscore:\t\t84.29 %\n",
      "Epoch 10 of 50 took 483.476s\n",
      "  training loss:\t\t0.484633\n",
      "  training accuracy:\t\t76.12 %\n",
      "  training AUCscore:\t\t84.42 %\n",
      "  validation loss:\t\t0.471482\n",
      "  validation accuracy:\t\t76.11 %\n",
      "  validation AUCscore:\t\t84.41 %\n",
      "Epoch 11 of 50 took 485.962s\n",
      "  training loss:\t\t0.483082\n",
      "  training accuracy:\t\t76.23 %\n",
      "  training AUCscore:\t\t84.54 %\n",
      "  validation loss:\t\t0.469836\n",
      "  validation accuracy:\t\t76.25 %\n",
      "  validation AUCscore:\t\t84.55 %\n",
      "Epoch 12 of 50 took 591.060s\n",
      "  training loss:\t\t0.481715\n",
      "  training accuracy:\t\t76.31 %\n",
      "  training AUCscore:\t\t84.64 %\n",
      "  validation loss:\t\t0.468581\n",
      "  validation accuracy:\t\t76.29 %\n",
      "  validation AUCscore:\t\t84.61 %\n",
      "Epoch 13 of 50 took 731.585s\n",
      "  training loss:\t\t0.480408\n",
      "  training accuracy:\t\t76.39 %\n",
      "  training AUCscore:\t\t84.73 %\n",
      "  validation loss:\t\t0.467291\n",
      "  validation accuracy:\t\t76.40 %\n",
      "  validation AUCscore:\t\t84.70 %\n",
      "Epoch 14 of 50 took 820.805s\n",
      "  training loss:\t\t0.479337\n",
      "  training accuracy:\t\t76.47 %\n",
      "  training AUCscore:\t\t84.81 %\n",
      "  validation loss:\t\t0.465979\n",
      "  validation accuracy:\t\t76.46 %\n",
      "  validation AUCscore:\t\t84.78 %\n",
      "Epoch 15 of 50 took 758.301s\n",
      "  training loss:\t\t0.478213\n",
      "  training accuracy:\t\t76.54 %\n",
      "  training AUCscore:\t\t84.89 %\n",
      "  validation loss:\t\t0.465667\n",
      "  validation accuracy:\t\t76.46 %\n",
      "  validation AUCscore:\t\t84.84 %\n",
      "Epoch 16 of 50 took 598.658s\n",
      "  training loss:\t\t0.477029\n",
      "  training accuracy:\t\t76.62 %\n",
      "  training AUCscore:\t\t84.98 %\n",
      "  validation loss:\t\t0.464004\n",
      "  validation accuracy:\t\t76.51 %\n",
      "  validation AUCscore:\t\t84.91 %\n",
      "Epoch 17 of 50 took 667.324s\n",
      "  training loss:\t\t0.476155\n",
      "  training accuracy:\t\t76.68 %\n",
      "  training AUCscore:\t\t85.04 %\n",
      "  validation loss:\t\t0.462584\n",
      "  validation accuracy:\t\t76.62 %\n",
      "  validation AUCscore:\t\t84.97 %\n",
      "Epoch 18 of 50 took 606.167s\n",
      "  training loss:\t\t0.475223\n",
      "  training accuracy:\t\t76.74 %\n",
      "  training AUCscore:\t\t85.10 %\n",
      "  validation loss:\t\t0.462434\n",
      "  validation accuracy:\t\t76.62 %\n",
      "  validation AUCscore:\t\t84.97 %\n",
      "Epoch 19 of 50 took 664.619s\n",
      "  training loss:\t\t0.474352\n",
      "  training accuracy:\t\t76.80 %\n",
      "  training AUCscore:\t\t85.17 %\n",
      "  validation loss:\t\t0.462950\n",
      "  validation accuracy:\t\t76.60 %\n",
      "  validation AUCscore:\t\t85.07 %\n",
      "Epoch 20 of 50 took 673.315s\n",
      "  training loss:\t\t0.473542\n",
      "  training accuracy:\t\t76.85 %\n",
      "  training AUCscore:\t\t85.22 %\n",
      "  validation loss:\t\t0.460391\n",
      "  validation accuracy:\t\t76.76 %\n",
      "  validation AUCscore:\t\t85.11 %\n",
      "Epoch 21 of 50 took 672.819s\n",
      "  training loss:\t\t0.472608\n",
      "  training accuracy:\t\t76.91 %\n",
      "  training AUCscore:\t\t85.29 %\n",
      "  validation loss:\t\t0.459365\n",
      "  validation accuracy:\t\t76.79 %\n",
      "  validation AUCscore:\t\t85.16 %\n",
      "Epoch 22 of 50 took 666.405s\n",
      "  training loss:\t\t0.471991\n",
      "  training accuracy:\t\t76.94 %\n",
      "  training AUCscore:\t\t85.33 %\n",
      "  validation loss:\t\t0.458980\n",
      "  validation accuracy:\t\t76.87 %\n",
      "  validation AUCscore:\t\t85.23 %\n",
      "Epoch 23 of 50 took 498.852s\n",
      "  training loss:\t\t0.471274\n",
      "  training accuracy:\t\t77.00 %\n",
      "  training AUCscore:\t\t85.38 %\n",
      "  validation loss:\t\t0.458042\n",
      "  validation accuracy:\t\t76.91 %\n",
      "  validation AUCscore:\t\t85.27 %\n",
      "Epoch 24 of 50 took 498.131s\n",
      "  training loss:\t\t0.470565\n",
      "  training accuracy:\t\t77.05 %\n",
      "  training AUCscore:\t\t85.43 %\n",
      "  validation loss:\t\t0.457787\n",
      "  validation accuracy:\t\t76.89 %\n",
      "  validation AUCscore:\t\t85.28 %\n",
      "Epoch 25 of 50 took 498.300s\n",
      "  training loss:\t\t0.469848\n",
      "  training accuracy:\t\t77.08 %\n",
      "  training AUCscore:\t\t85.48 %\n",
      "  validation loss:\t\t0.457856\n",
      "  validation accuracy:\t\t76.83 %\n",
      "  validation AUCscore:\t\t85.32 %\n",
      "Epoch 26 of 50 took 497.724s\n",
      "  training loss:\t\t0.469224\n",
      "  training accuracy:\t\t77.13 %\n",
      "  training AUCscore:\t\t85.53 %\n",
      "  validation loss:\t\t0.456079\n",
      "  validation accuracy:\t\t76.95 %\n",
      "  validation AUCscore:\t\t85.35 %\n"
     ]
    },
    {
     "ename": "KeyboardInterrupt",
     "evalue": "",
     "output_type": "error",
     "traceback": [
      "\u001b[1;31m---------------------------------------------------------------------------\u001b[0m",
      "\u001b[1;31mKeyboardInterrupt\u001b[0m                         Traceback (most recent call last)",
      "\u001b[1;32m<ipython-input-27-766727b0e22d>\u001b[0m in \u001b[0;36m<module>\u001b[1;34m()\u001b[0m\n\u001b[0;32m     17\u001b[0m     \u001b[1;32mfor\u001b[0m \u001b[0mbatch\u001b[0m \u001b[1;32min\u001b[0m \u001b[0miterate_minibatches\u001b[0m\u001b[1;33m(\u001b[0m\u001b[0mX_train\u001b[0m\u001b[1;33m,\u001b[0m \u001b[0my_train\u001b[0m\u001b[1;33m,\u001b[0m \u001b[0mbatch_size\u001b[0m\u001b[1;33m,\u001b[0m \u001b[0mshuffle\u001b[0m\u001b[1;33m=\u001b[0m\u001b[0mTrue\u001b[0m\u001b[1;33m)\u001b[0m\u001b[1;33m:\u001b[0m\u001b[1;33m\u001b[0m\u001b[0m\n\u001b[0;32m     18\u001b[0m         \u001b[0minputs\u001b[0m\u001b[1;33m,\u001b[0m \u001b[0mtargets\u001b[0m \u001b[1;33m=\u001b[0m \u001b[0mbatch\u001b[0m\u001b[1;33m\u001b[0m\u001b[0m\n\u001b[1;32m---> 19\u001b[1;33m         \u001b[0merr\u001b[0m\u001b[1;33m,\u001b[0m \u001b[0my_pred\u001b[0m \u001b[1;33m=\u001b[0m \u001b[0mtrain_fun\u001b[0m\u001b[1;33m(\u001b[0m\u001b[0minputs\u001b[0m\u001b[1;33m,\u001b[0m \u001b[0mtargets\u001b[0m\u001b[1;33m)\u001b[0m\u001b[1;33m\u001b[0m\u001b[0m\n\u001b[0m\u001b[0;32m     20\u001b[0m \u001b[1;33m\u001b[0m\u001b[0m\n\u001b[0;32m     21\u001b[0m         \u001b[0mYpred_batches\u001b[0m\u001b[1;33m.\u001b[0m\u001b[0mappend\u001b[0m\u001b[1;33m(\u001b[0m\u001b[0my_pred\u001b[0m\u001b[1;33m)\u001b[0m\u001b[1;33m\u001b[0m\u001b[0m\n",
      "\u001b[1;32m/homeappl/home/austyuzh/miniconda2/lib/python2.7/site-packages/theano/compile/function_module.pyc\u001b[0m in \u001b[0;36m__call__\u001b[1;34m(self, *args, **kwargs)\u001b[0m\n\u001b[0;32m    897\u001b[0m         \u001b[1;32mtry\u001b[0m\u001b[1;33m:\u001b[0m\u001b[1;33m\u001b[0m\u001b[0m\n\u001b[0;32m    898\u001b[0m             \u001b[0moutputs\u001b[0m \u001b[1;33m=\u001b[0m\u001b[0;31m\\\u001b[0m\u001b[1;33m\u001b[0m\u001b[0m\n\u001b[1;32m--> 899\u001b[1;33m                 \u001b[0mself\u001b[0m\u001b[1;33m.\u001b[0m\u001b[0mfn\u001b[0m\u001b[1;33m(\u001b[0m\u001b[1;33m)\u001b[0m \u001b[1;32mif\u001b[0m \u001b[0moutput_subset\u001b[0m \u001b[1;32mis\u001b[0m \u001b[0mNone\u001b[0m \u001b[1;32melse\u001b[0m\u001b[0;31m\\\u001b[0m\u001b[1;33m\u001b[0m\u001b[0m\n\u001b[0m\u001b[0;32m    900\u001b[0m                 \u001b[0mself\u001b[0m\u001b[1;33m.\u001b[0m\u001b[0mfn\u001b[0m\u001b[1;33m(\u001b[0m\u001b[0moutput_subset\u001b[0m\u001b[1;33m=\u001b[0m\u001b[0moutput_subset\u001b[0m\u001b[1;33m)\u001b[0m\u001b[1;33m\u001b[0m\u001b[0m\n\u001b[0;32m    901\u001b[0m         \u001b[1;32mexcept\u001b[0m \u001b[0mException\u001b[0m\u001b[1;33m:\u001b[0m\u001b[1;33m\u001b[0m\u001b[0m\n",
      "\u001b[1;31mKeyboardInterrupt\u001b[0m: "
     ]
    }
   ],
   "source": [
    "num_epochs = 50\n",
    "batch_size = 1000\n",
    "\n",
    "import time\n",
    "from sklearn.metrics import roc_auc_score,accuracy_score\n",
    "\n",
    "for epoch in range(num_epochs):\n",
    "    # In each epoch, we do a full pass over the training data:\n",
    "\n",
    "    start_time = time.time()\n",
    "    \n",
    "    train_err = 0\n",
    "    Ypred_batches = []\n",
    "    Ytrue_batches = []\n",
    "    train_batches = 0\n",
    "    \n",
    "    for batch in iterate_minibatches(X_train, y_train, batch_size, shuffle=True):\n",
    "        inputs, targets = batch\n",
    "        err, y_pred = train_fun(inputs, targets)\n",
    "        \n",
    "        Ypred_batches.append(y_pred)\n",
    "        Ytrue_batches.append(targets)\n",
    "        \n",
    "        train_err += err\n",
    "        train_batches += 1\n",
    "    \n",
    "    Ypred_train = np.concatenate(Ypred_batches)\n",
    "    Ytrue_train = np.concatenate(Ytrue_batches)\n",
    "    train_acc = accuracy_score(Ytrue_train, Ypred_train>0.5)\n",
    "    train_auc = roc_auc_score(Ytrue_train, Ypred_train)\n",
    "    \n",
    "    train_acc_curve.append(train_acc)\n",
    "    train_auc_curve.append(train_auc)\n",
    "\n",
    "\n",
    "    # And a full pass over the validation data:\n",
    "    val_err = 0\n",
    "    Ypred_batches = []\n",
    "    Ytrue_batches = []\n",
    "    val_batches = 0\n",
    "    \n",
    "    for batch in iterate_minibatches(X_val, y_val, batch_size, shuffle=False):\n",
    "        inputs, targets = batch\n",
    "        err, y_pred = val_fun(inputs, targets)\n",
    "        Ypred_batches.append(y_pred)\n",
    "        Ytrue_batches.append(targets)\n",
    "        \n",
    "        val_err += err\n",
    "        val_batches += 1\n",
    "\n",
    "    Ypred_val = np.concatenate(Ypred_batches)\n",
    "    Ytrue_val = np.concatenate(Ytrue_batches)\n",
    "    val_acc = accuracy_score(Ytrue_val, Ypred_val>0.5)\n",
    "    val_auc = roc_auc_score(Ytrue_val, Ypred_val)\n",
    "    \n",
    "    val_acc_curve.append(val_acc)\n",
    "    val_auc_curve.append(val_auc)\n",
    "\n",
    "\n",
    "    # Then we print the results for this epoch:\n",
    "    print(\"Epoch {} of {} took {:.3f}s\".format(\n",
    "        epoch + 1, num_epochs, time.time() - start_time))\n",
    "    print(\"  training loss:\\t\\t{:.6f}\".format(train_err / train_batches))\n",
    "    print(\"  training accuracy:\\t\\t{:.2f} %\".format(\n",
    "        train_acc * 100))\n",
    "    print(\"  training AUCscore:\\t\\t{:.2f} %\".format(\n",
    "        train_auc * 100))\n",
    "    print(\"  validation loss:\\t\\t{:.6f}\".format(val_err / val_batches))\n",
    "    print(\"  validation accuracy:\\t\\t{:.2f} %\".format(\n",
    "        val_acc  * 100))\n",
    "    print(\"  validation AUCscore:\\t\\t{:.2f} %\".format(\n",
    "        val_auc * 100))\n",
    "\n",
    "    \n",
    "    \n"
   ]
  },
  {
   "cell_type": "code",
   "execution_count": 28,
   "metadata": {
    "collapsed": false,
    "scrolled": true
   },
   "outputs": [
    {
     "data": {
      "image/png": "[encoded data removed]",
      "text/plain": [
       "<matplotlib.figure.Figure at 0x7f14d8e4cc90>"
      ]
     },
     "metadata": {},
     "output_type": "display_data"
    }
   ],
   "source": [
    "plt.figure(figsize=(12, 7))\n",
    "plt.plot(val_acc_curve,label='validation accuracy')\n",
    "plt.plot(val_auc_curve,label='validation auc')\n",
    "plt.plot(train_acc_curve,label='training accuracy')\n",
    "plt.plot(train_auc_curve,label='training auc')\n",
    "plt.xlabel(\"epochs\")\n",
    "plt.legend(loc='best')\n",
    "plt.ylim(0.6,0.9);"
   ]
  },
  {
   "cell_type": "code",
   "execution_count": 48,
   "metadata": {
    "collapsed": false
   },
   "outputs": [
    {
     "name": "stdout",
     "output_type": "stream",
     "text": [
      "0.844313305113\n"
     ]
    }
   ],
   "source": [
    "# And a full pass over the validation data:\n",
    "val_err = 0\n",
    "Ypred_batches = []\n",
    "Ytrue_batches = []\n",
    "val_batches = 0\n",
    "\n",
    "for batch in iterate_minibatches(X_val, y_val, batch_size, shuffle=False):\n",
    "    inputs, targets = batch\n",
    "    err, y_pred = val_fun(inputs, targets)\n",
    "    Ypred_batches.append(y_pred)\n",
    "    Ytrue_batches.append(targets)\n",
    "\n",
    "    val_err += err\n",
    "    val_batches += 1\n",
    "\n",
    "Ypred_val = np.concatenate(Ypred_batches)\n",
    "Ytrue_val = np.concatenate(Ytrue_batches)\n",
    "val_acc = accuracy_score(Ytrue_val, Ypred_val>0.5)\n",
    "val_auc = roc_auc_score(Ytrue_val, Ypred_val)\n",
    "\n",
    "print val_auc"
   ]
  },
  {
   "cell_type": "code",
   "execution_count": 76,
   "metadata": {
    "collapsed": false
   },
   "outputs": [
    {
     "data": {
      "text/plain": [
       "[l_0.beta,\n",
       " l_0.gamma,\n",
       " l_0.mean,\n",
       " l_0.inv_std,\n",
       " dense0.W,\n",
       " dense0_bn.beta,\n",
       " dense0_bn.gamma,\n",
       " dense0_bn.mean,\n",
       " dense0_bn.inv_std,\n",
       " dense1.W,\n",
       " dense1_bn.beta,\n",
       " dense1_bn.gamma,\n",
       " dense1_bn.mean,\n",
       " dense1_bn.inv_std,\n",
       " dense2.W,\n",
       " dense2_bn.beta,\n",
       " dense2_bn.gamma,\n",
       " dense2_bn.mean,\n",
       " dense2_bn.inv_std,\n",
       " dense3.W,\n",
       " dense3_bn.beta,\n",
       " dense3_bn.gamma,\n",
       " dense3_bn.mean,\n",
       " dense3_bn.inv_std,\n",
       " dense4.W,\n",
       " dense4_bn.beta,\n",
       " dense4_bn.gamma,\n",
       " dense4_bn.mean,\n",
       " dense4_bn.inv_std,\n",
       " dense_out.W,\n",
       " dense_out.b]"
      ]
     },
     "execution_count": 76,
     "metadata": {},
     "output_type": "execute_result"
    }
   ],
   "source": [
    "lasagne.layers.get_all_params(nn)"
   ]
  },
  {
   "cell_type": "code",
   "execution_count": 29,
   "metadata": {
    "collapsed": true
   },
   "outputs": [],
   "source": [
    "import sys\n",
    "from six.moves import cPickle as pickle\n",
    "import lasagne\n",
    "\n",
    "def save(nn, filename):\n",
    "    params = lasagne.layers.get_all_param_values(nn)\n",
    "    with open(filename, 'wb') as fout:\n",
    "        pickle.dump(params, fout, protocol=2)\n",
    "        \n",
    "def save_and_download(nn, filename):\n",
    "    from IPython.display import FileLink\n",
    "    \n",
    "    save(nn, filename)\n",
    "    return FileLink(filename)"
   ]
  },
  {
   "cell_type": "code",
   "execution_count": 30,
   "metadata": {
    "collapsed": false
   },
   "outputs": [
    {
     "data": {
      "text/html": [
       "<a href='nn9.weights' target='_blank'>nn9.weights</a><br>"
      ],
      "text/plain": [
       "/homeappl/home/trng47/nn9.weights"
      ]
     },
     "execution_count": 30,
     "metadata": {},
     "output_type": "execute_result"
    }
   ],
   "source": [
    "save_and_download(nn, \"nn9.weights\")"
   ]
  },
  {
   "cell_type": "code",
   "execution_count": null,
   "metadata": {
    "collapsed": false
   },
   "outputs": [],
   "source": [
    "from sklearn.metrics import roc_curve\n",
    "plt.title('Resulting ROC curves')\n",
    "\n",
    "fpr,tpr,_ = roc_curve(Ytrue_val,Ypred_val)\n",
    "plt.plot(fpr,tpr,label='validation ROC, auc=%.5f'%(val_auc))\n",
    "fpr,tpr,_ = roc_curve(Ytrue_train,Ypred_train)\n",
    "plt.plot(fpr,tpr,label='training ROC, auc=%.5f'%(train_auc))\n",
    "\n",
    "plt.legend(loc='best')\n"
   ]
  },
  {
   "cell_type": "code",
   "execution_count": 35,
   "metadata": {
    "collapsed": false
   },
   "outputs": [],
   "source": [
    "det_predicted = lasagne.layers.get_output(nn, deterministic=True)\n",
    "eval_fun = theano.function([input_X], det_predicted[:,1], allow_input_downcast=True, name=\"eval_NN\")"
   ]
  },
  {
   "cell_type": "code",
   "execution_count": 36,
   "metadata": {
    "collapsed": true
   },
   "outputs": [],
   "source": [
    "test_prob = eval_fun(test_X)"
   ]
  },
  {
   "cell_type": "markdown",
   "metadata": {},
   "source": [
    "## Task 1:\n",
    "Add batch normalization after each hidden layer. See if new network does better that the old one.\n",
    "\n",
    "To add Batch Normalization, one can use batch_norm:\n",
    "\n",
    "```\n",
    "normalized_layer = lasagne.layers.batch_norm(previous_layer)\n",
    "```\n",
    "\n",
    "For simplicity, one can implement batch-normalized NN in a new notebook by \n",
    "clicking __File__ -> __Make a copy__ in the jupyter notebook top bar. Do not forget to rename the copy.\n",
    "\n",
    "\n",
    "Alternatively, one can just copy-paste code or start editing\n",
    "\n",
    "\n",
    "__Bonus task 1.1__:\n",
    " - See if batch-normalizing input does you any good.\n",
    " - Which operation is this ~equivalent to in terms of Scikit-Learn?\n",
    " \n",
    " \n",
    "__ After you made it through batch_normalization, scroll to the notebook bottom for the second assignment__"
   ]
  },
  {
   "cell_type": "code",
   "execution_count": null,
   "metadata": {
    "collapsed": true
   },
   "outputs": [],
   "source": []
  },
  {
   "cell_type": "code",
   "execution_count": null,
   "metadata": {
    "collapsed": true
   },
   "outputs": [],
   "source": []
  },
  {
   "cell_type": "code",
   "execution_count": null,
   "metadata": {
    "collapsed": true
   },
   "outputs": [],
   "source": []
  },
  {
   "cell_type": "markdown",
   "metadata": {
    "collapsed": true
   },
   "source": [
    "```\n",
    "\n",
    "```\n",
    "\n",
    "```\n",
    "\n",
    "```\n",
    "\n",
    "```\n",
    "\n",
    "```\n",
    "\n",
    "```\n",
    "\n",
    "```\n",
    "\n",
    "```\n",
    "\n",
    "```\n",
    "\n",
    "```\n",
    "\n",
    "```\n",
    "\n",
    "```\n",
    "\n",
    "```\n",
    "\n",
    "```\n",
    "\n",
    "```\n",
    "\n",
    "```\n",
    "\n",
    "```\n",
    "\n",
    "```\n",
    "\n",
    "```\n",
    "\n",
    "```\n",
    "\n",
    "```\n",
    "\n",
    "```\n",
    "\n",
    "```\n",
    "\n",
    "```\n",
    "\n",
    "```\n",
    "\n",
    "```\n",
    "\n",
    "```\n",
    "\n",
    "```\n",
    "\n",
    "```\n",
    "\n",
    "```\n",
    "\n",
    "```\n",
    "\n",
    "```\n",
    "\n",
    "```\n",
    "\n",
    "```\n",
    "\n",
    "```\n",
    "\n",
    "```\n",
    "\n",
    "```\n",
    "\n",
    "```\n",
    "\n",
    "```\n",
    "\n",
    "```\n",
    "\n",
    "```\n",
    "\n",
    "```\n",
    "\n",
    "```\n",
    "\n",
    "```\n",
    "\n",
    "```\n",
    "\n",
    "```\n",
    "\n",
    "```\n",
    "\n",
    "```\n",
    "\n",
    "```\n",
    "\n",
    "```\n",
    "\n",
    "```\n",
    "\n",
    "```\n",
    "\n",
    "```\n",
    "\n",
    "#### Assuming, you made it through the batch-normalization assignment.\n",
    "\n",
    "__Task2__\n",
    "\n",
    "If you have seen the batch-normalized NN learning curves, you probably have noticed that the validation curves first ascended to a peak and than started to descend while the training score still increase. That's some __overfitting__ happening right in front of you!\n",
    "\n",
    "Your second task, and also a reasonable step towards improving your kaggle ensemble, is to get rid of that overfitting by the tools you know already:\n",
    "\n",
    "- __Early stopping__: stop training when validation score starts decreasing\n",
    "- __Dropout__: force nn to learn redundant representations using [lasagne.layers.DropoutLayer](http://lasagne.readthedocs.io/en/latest/modules/layers/noise.html) (syntax like batch_norm)\n",
    "- __L2 or L1 regularization__: plain old weight penalty still works here. Can be implemented using [lasagne.regularization](http://lasagne.readthedocs.io/en/latest/modules/regularization.html)\n",
    "- __Distortion__: add random (e.g. gaussian) noize to the input data to virtually increase dataset size. \n",
    "   * Can be done via [gaussian noise layer](http://lasagne.readthedocs.io/en/latest/modules/layers/noise.html#lasagne.layers.GaussianNoiseLayer) or manually\n",
    "   \n",
    "   \n",
    "A friendly advice:\n",
    " - You are not restricted to a single approach, however we recommend slow and methodic changes against mixing everything in random proportions right away.\n",
    " - If a method is more mathematically sound or cool than others, it doesn't mean it's bound to score better in competition.\n",
    "   \n",
    "Again, the recommended approach is to copy a notebook and solve the task in the copied version, however you may pick ane approach at your own doom."
   ]
  },
  {
   "cell_type": "code",
   "execution_count": null,
   "metadata": {
    "collapsed": true
   },
   "outputs": [],
   "source": []
  }
 ],
 "metadata": {
  "kernelspec": {
   "display_name": "Python 2",
   "language": "python",
   "name": "python2"
  },
  "language_info": {
   "codemirror_mode": {
    "name": "ipython",
    "version": 2
   },
   "file_extension": ".py",
   "mimetype": "text/x-python",
   "name": "python",
   "nbconvert_exporter": "python",
   "pygments_lexer": "ipython2",
   "version": "2.7.11"
  }
 },
 "nbformat": 4,
 "nbformat_minor": 0
}
