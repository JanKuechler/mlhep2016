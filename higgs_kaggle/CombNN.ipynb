{
 "cells": [
  {
   "cell_type": "code",
   "execution_count": 109,
   "metadata": {
    "collapsed": false
   },
   "outputs": [],
   "source": [
    "%matplotlib inline\n",
    "\n",
    "import matplotlib\n",
    "import matplotlib.pyplot as plt\n",
    "\n",
    "import pandas\n",
    "import pandas as pd\n",
    "import numpy\n",
    "import numpy as np\n",
    "\n",
    "import root_numpy\n",
    "\n",
    "from sklearn.cross_validation import train_test_split, cross_val_score\n",
    "from sklearn.metrics import roc_auc_score, roc_curve\n",
    "\n",
    "from sklearn.tree import DecisionTreeClassifier\n",
    "from sklearn.svm import SVC\n",
    "from sklearn.ensemble import GradientBoostingClassifier\n",
    "from sklearn.ensemble import RandomForestClassifier\n",
    "from sklearn.externals import joblib\n",
    "\n",
    "from rep.estimators import XGBoostClassifier\n",
    "\n",
    "from bayes_opt import BayesianOptimization\n",
    "\n",
    "import theano\n",
    "import theano.tensor as T\n",
    "\n",
    "import lasagne\n",
    "\n",
    "import sys\n",
    "from six.moves import cPickle as pickle\n",
    "\n",
    "\n",
    "def load_nn(nn, filename):\n",
    "    kwargs = {}\n",
    "    if sys.version_info >= (3,):\n",
    "        kwargs = {'encoding': 'latin1'}\n",
    "\n",
    "    with open(filename, 'rb') as fin:\n",
    "        saved_params = pickle.load(fin, **kwargs)\n",
    "\n",
    "    lasagne.layers.set_all_param_values(nn, saved_params)\n",
    "    return nn\n",
    "\n",
    "def iterate_minibatches(inputs, targets, batchsize, shuffle=True):\n",
    "    assert len(inputs) == len(targets)\n",
    "    if shuffle:\n",
    "        indices = np.arange(len(inputs))\n",
    "        np.random.shuffle(indices)\n",
    "    for start_idx in range(0, len(inputs) - batchsize + 1, batchsize):\n",
    "        if shuffle:\n",
    "            excerpt = indices[start_idx:start_idx + batchsize]\n",
    "        else:\n",
    "            excerpt = slice(start_idx, start_idx + batchsize)\n",
    "        yield inputs[excerpt], targets[excerpt]\n",
    "        \n",
    "def batch_inputs(inputs, batchsize):\n",
    "    for start_idx in range(0, len(inputs) - batchsize + 1, batchsize):\n",
    "        excerpt = slice(start_idx, start_idx + batchsize)\n",
    "        yield inputs[excerpt]"
   ]
  },
  {
   "cell_type": "code",
   "execution_count": 110,
   "metadata": {
    "collapsed": false
   },
   "outputs": [],
   "source": [
    "data = pandas.DataFrame(root_numpy.root2array('datasets/public_train_10000.root'))\n",
    "full_data = pandas.DataFrame(root_numpy.root2array('datasets/public_train_1000000.root'))\n",
    "test = pandas.DataFrame(root_numpy.root2array('datasets/public_test.root'))\n"
   ]
  },
  {
   "cell_type": "code",
   "execution_count": 111,
   "metadata": {
    "collapsed": true
   },
   "outputs": [],
   "source": [
    "def dphi(phi1, phi2):\n",
    "    \"Return the angular difference in the range [-pi,pi)\"\n",
    "    dphi = (phi1 - phi2 + np.pi) % (2 * np.pi) - np.pi\n",
    "    return dphi\n",
    "\n",
    "def dr(eta1, eta2, phi1, phi2):\n",
    "    \"Return the eta-phi distance\"\n",
    "    return np.sqrt((eta1-eta2)**2 + dphi(phi1,phi2)**2)"
   ]
  },
  {
   "cell_type": "code",
   "execution_count": 112,
   "metadata": {
    "collapsed": true
   },
   "outputs": [],
   "source": [
    "features = [u'lepton_pt', u'lepton_eta', u'lepton_phi', u'mem_pt', u'mem_phi',\n",
    "       u'jet1_pt', u'jet1_eta', u'jet1_phi', u'jet1_btag', u'jet2_pt',\n",
    "       u'jet2_eta', u'jet2_phi', u'jet2_btag', u'jet3_pt', u'jet3_eta',\n",
    "       u'jet3_phi', u'jet3_btag', u'jet4_pt', u'jet4_eta', u'jet4_phi',\n",
    "       u'jet4_btag', u'm_jj', u'm_jjj', u'm_lv', u'm_jlv', u'm_bb', u'm_wbb',\n",
    "       u'm_wwbb']\n",
    "high_level_features = ['m_jj', 'm_jjj', 'm_jlv', 'm_wwbb', 'm_bb', 'm_wbb', 'm_lv']\n",
    "\n",
    "# a list of all proper objects and all objects + MET\n",
    "real_objects = ['lepton', 'jet1', 'jet2', 'jet3', 'jet4']\n",
    "objects = real_objects + ['mem']"
   ]
  },
  {
   "cell_type": "code",
   "execution_count": 149,
   "metadata": {
    "collapsed": true
   },
   "outputs": [],
   "source": [
    "def add_features(data):\n",
    "    data['ht'] = data['jet1_pt'] + data['jet2_pt'] + data['jet3_pt'] + data['jet4_pt']\n",
    "    data['meff'] = data['jet1_pt'] + data['jet2_pt'] + data['jet3_pt'] + data['jet4_pt'] + data['lepton_pt'] + data['mem_pt']\n",
    "    data['rt'] = data['meff'] / data['m_wwbb']\n",
    "    data['delta_m'] = np.abs(data['m_jjj'] - data['m_jlv'])\n",
    "    \n",
    "    variables = ['ht', 'meff', 'rt', 'delta_m']\n",
    "    \n",
    "    data['dr_j12'] = dr(data['jet1_eta'], data['jet2_eta'], data['jet1_phi'], data['jet2_phi'])\n",
    "    data['dr_j34'] = dr(data['jet3_eta'], data['jet4_eta'], data['jet3_phi'], data['jet4_phi'])\n",
    "    \n",
    "    variables += ['dr_j12', 'dr_j34']\n",
    "    \n",
    "    for i in [1,2,3,4]:\n",
    "        data['dr_lj%d' % i] = dr(data['jet%d_eta' % i], data['lepton_eta'], data['jet%d_phi' % i], data['lepton_phi'])\n",
    "        data['dphi_met_j%d' % i] = np.abs(dphi(data['mem_phi'], data['jet%d_phi' % i]))\n",
    "\n",
    "        variables += ['dr_lj%d' % i, 'dphi_met_j%d' % i]\n",
    "        \n",
    "    data['max_dr_lj'] = np.maximum(np.maximum(data['dr_lj1'], data['dr_lj2']),\n",
    "                                   np.maximum(data['dr_lj3'], data['dr_lj4']))\n",
    "    data['min_dr_lj'] = np.minimum(np.minimum(data['dr_lj1'], data['dr_lj2']),\n",
    "                                   np.minimum(data['dr_lj3'], data['dr_lj4']))   \n",
    "\n",
    "    data['max_dphi_met_j'] = np.maximum(np.maximum(data['dphi_met_j1'], data['dphi_met_j2']),\n",
    "                                        np.maximum(data['dphi_met_j3'], data['dphi_met_j4']))\n",
    "    data['min_dphi_met_j'] = np.minimum(np.minimum(data['dphi_met_j1'], data['dphi_met_j2']),\n",
    "                                        np.minimum(data['dphi_met_j3'], data['dphi_met_j4']))\n",
    "\n",
    "    variables += ['max_dr_lj', 'min_dr_lj', 'max_dphi_met_j', 'min_dphi_met_j']\n",
    "\n",
    "    data['max_jet_pt'] = np.maximum(np.maximum(data['jet1_pt'], data['jet2_pt']),\n",
    "                                    np.maximum(data['jet3_pt'], data['jet4_pt']))\n",
    "    data['min_jet_pt'] = np.minimum(np.minimum(data['jet1_pt'], data['jet2_pt']),\n",
    "                                    np.minimum(data['jet3_pt'], data['jet4_pt']))       \n",
    "    \n",
    "    variables += ['max_jet_pt', 'min_jet_pt']\n",
    "    \n",
    "    for obj in real_objects:\n",
    "        data['%s_abs_eta' % obj] = np.abs(data['%s_eta' % obj])\n",
    "        variables.append('%s_abs_eta' % obj)\n",
    "        \n",
    "        for obj2 in ['lepton']:\n",
    "            if obj == obj2:\n",
    "                continue\n",
    "            \n",
    "            dphi_name = \"dphi_%s_%s\" % (obj, obj2)\n",
    "            deta_name = \"deta_%s_%s\" % (obj, obj2)\n",
    "            \n",
    "            data[dphi_name] = np.abs(dphi(data['%s_phi' % obj], data['%s_phi' % obj2]))\n",
    "            data[deta_name] = np.abs(data['%s_eta' % obj] - data['%s_eta' % obj2])\n",
    "            \n",
    "            variables += [dphi_name, deta_name]\n",
    "    \n",
    "    return variables\n",
    "\n",
    "new_features = add_features(data)\n",
    "add_features(full_data)\n",
    "add_features(test)\n",
    "\n",
    "training_data, validation_data = train_test_split(data, random_state=11, train_size=0.8)\n",
    "full_train, full_valid = train_test_split(full_data, random_state=11, train_size=0.8)\n",
    "\n",
    "signal = data[data.target == 1]\n",
    "background = data[data.target == 0]\n",
    "\n",
    "bad_features = [\n",
    "    \"jet4_btag\", \n",
    "    \"jet3_btag\", \n",
    "    \"jet1_btag\",\n",
    "    \"jet2_btag\",\n",
    "    \"jet1_eta\",\n",
    "    \"jet2_eta\",\n",
    "    \"jet3_eta\",\n",
    "    \"jet4_eta\",\n",
    "    \"lepton_eta\",\n",
    "]\n",
    "\n",
    "selected_features = features + new_features\n",
    "selected_features = list(set(selected_features) - set(bad_features))\n"
   ]
  },
  {
   "cell_type": "code",
   "execution_count": 185,
   "metadata": {
    "collapsed": false
   },
   "outputs": [
    {
     "data": {
      "text/plain": [
       "52"
      ]
     },
     "execution_count": 185,
     "metadata": {},
     "output_type": "execute_result"
    },
    {
     "name": "stderr",
     "output_type": "stream",
     "text": [
      "\r\n",
      "tab completion not implemented for this context\r\n"
     ]
    }
   ],
   "source": [
    "len(selected_features)"
   ]
  },
  {
   "cell_type": "code",
   "execution_count": 114,
   "metadata": {
    "collapsed": true
   },
   "outputs": [],
   "source": [
    "from sklearn.base import BaseEstimator\n",
    "from sklearn.cross_validation import StratifiedKFold\n",
    "from sklearn.metrics import roc_auc_score\n",
    "\n",
    "class CVEstimator(BaseEstimator):\n",
    "    def __init__(self, cv, est_type, args={}):\n",
    "        self.cv = cv\n",
    "        self.estimator_type = est_type\n",
    "        self.estimator_args = args\n",
    "        \n",
    "        self.estimators = [est_type(**args) for _ in xrange(self.cv)]\n",
    "        \n",
    "    def fit(self, x, y):\n",
    "        skf = StratifiedKFold(y.copy(), self.cv)\n",
    "        \n",
    "        self.scores = []\n",
    "        \n",
    "        for i, train_test in enumerate(skf):\n",
    "            est = self.estimators[i]\n",
    "            train, test = train_test\n",
    "            \n",
    "            est.fit(x.iloc[train], y.iloc[train])\n",
    "            \n",
    "            pred = est.predict_proba(x.iloc[test])[:,1]\n",
    "            score = roc_auc_score(y.iloc[test], pred)\n",
    "            self.scores.append(score)\n",
    "            \n",
    "        # calculate feature importance\n",
    "        score_norm = 1 / sum(self.scores)\n",
    "        self.feature_importances_ = []\n",
    "        \n",
    "        for i in xrange(len(self.estimators[0].feature_importances_)):\n",
    "            imp_sum = 0\n",
    "            for j, est in enumerate(self.estimators):\n",
    "                imp_sum += self.scores[j] * est.feature_importances_[i]\n",
    "            \n",
    "            self.feature_importances_.append(imp_sum * score_norm)\n",
    "        \n",
    "        return self\n",
    "    \n",
    "    def predict_proba(self, x):\n",
    "        pred = None\n",
    "        \n",
    "        for est in self.estimators:\n",
    "            this_pred = est.predict_proba(x)\n",
    "            if pred is None:\n",
    "                pred = this_pred\n",
    "            else:\n",
    "                pred += this_pred\n",
    "        \n",
    "        pred /= self.cv\n",
    "        return pred"
   ]
  },
  {
   "cell_type": "code",
   "execution_count": 115,
   "metadata": {
    "collapsed": false
   },
   "outputs": [],
   "source": [
    "final_clf = joblib.load(\"cv6_xgboost_gridopt_train10m.clf\")"
   ]
  },
  {
   "cell_type": "code",
   "execution_count": 130,
   "metadata": {
    "collapsed": false
   },
   "outputs": [
    {
     "data": {
      "text/plain": [
       "[u'lepton_pt',\n",
       " u'lepton_eta',\n",
       " u'lepton_phi',\n",
       " u'mem_pt',\n",
       " u'mem_phi',\n",
       " u'jet1_pt',\n",
       " u'jet1_eta',\n",
       " u'jet1_phi',\n",
       " u'jet1_btag',\n",
       " u'jet2_pt',\n",
       " u'jet2_eta',\n",
       " u'jet2_phi',\n",
       " u'jet2_btag',\n",
       " u'jet3_pt',\n",
       " u'jet3_eta',\n",
       " u'jet3_phi',\n",
       " u'jet3_btag',\n",
       " u'jet4_pt',\n",
       " u'jet4_eta',\n",
       " u'jet4_phi',\n",
       " u'jet4_btag',\n",
       " u'm_jj',\n",
       " u'm_jjj',\n",
       " u'm_lv',\n",
       " u'm_jlv',\n",
       " u'm_bb',\n",
       " u'm_wbb',\n",
       " u'm_wwbb',\n",
       " 'ht',\n",
       " 'meff',\n",
       " 'rt',\n",
       " 'delta_m',\n",
       " 'dr_j12',\n",
       " 'dr_j34',\n",
       " 'dr_lj1',\n",
       " 'dphi_met_j1',\n",
       " 'dr_lj2',\n",
       " 'dphi_met_j2',\n",
       " 'dr_lj3',\n",
       " 'dphi_met_j3',\n",
       " 'dr_lj4',\n",
       " 'dphi_met_j4',\n",
       " 'max_dr_lj',\n",
       " 'min_dr_lj',\n",
       " 'max_dphi_met_j',\n",
       " 'min_dphi_met_j',\n",
       " 'max_jet_pt',\n",
       " 'min_jet_pt',\n",
       " 'lepton_abs_eta',\n",
       " 'jet1_abs_eta',\n",
       " 'dphi_jet1_lepton',\n",
       " 'deta_jet1_lepton',\n",
       " 'jet2_abs_eta',\n",
       " 'dphi_jet2_lepton',\n",
       " 'deta_jet2_lepton',\n",
       " 'jet3_abs_eta',\n",
       " 'dphi_jet3_lepton',\n",
       " 'deta_jet3_lepton',\n",
       " 'jet4_abs_eta',\n",
       " 'dphi_jet4_lepton',\n",
       " 'deta_jet4_lepton']"
      ]
     },
     "execution_count": 130,
     "metadata": {},
     "output_type": "execute_result"
    },
    {
     "name": "stdout",
     "output_type": "stream",
     "text": [
      "\u0007"
     ]
    }
   ],
   "source": [
    "all_features"
   ]
  },
  {
   "cell_type": "code",
   "execution_count": 176,
   "metadata": {
    "collapsed": false
   },
   "outputs": [],
   "source": [
    "input_X = T.matrix(\"X\", dtype=\"float32\")\n",
    "\n",
    "all_features = features + new_features\n",
    "num_features = len(all_features)\n",
    "\n",
    "n_features = len(all_features)\n",
    "\n",
    "# input dimention (None means \"Arbitrary\" and only works at  the first axes [samples])\n",
    "input_shape = [None, num_features]\n",
    "\n",
    "target_y = T.vector(\"y\", dtype=\"float32\")\n",
    "\n",
    "import lasagne.layers as L\n",
    "l_in = InputLayer([None, n_features],input_X,'input layer')\n",
    "\n",
    "n_hid = 500\n",
    "\n",
    "l_0 = lasagne.layers.BatchNormLayer(l_in, name=\"l_0\")\n",
    "\n",
    "l_1 = batch_norm(DenseLayer(l_0,\n",
    "                num_units=700,\n",
    "                name='dense0',\n",
    "                nonlinearity=lasagne.nonlinearities.tanh))\n",
    "\n",
    "d_1 = dropout(l_1, p=0.15)\n",
    "\n",
    "l_2 = batch_norm(DenseLayer(d_1,\n",
    "                num_units=700,\n",
    "                name='dense1',\n",
    "                nonlinearity=lasagne.nonlinearities.tanh))\n",
    "\n",
    "d_2 = dropout(l_2, p=0.15)\n",
    "\n",
    "l_3 = batch_norm(DenseLayer(d_2,\n",
    "                num_units=700,\n",
    "                name='dense2',\n",
    "                nonlinearity=lasagne.nonlinearities.tanh))\n",
    "\n",
    "d_3 = dropout(l_3, p=0.15)\n",
    "\n",
    "l_4 = batch_norm(DenseLayer(d_3,\n",
    "                num_units=700,\n",
    "                name='dense3',\n",
    "                nonlinearity=lasagne.nonlinearities.tanh))\n",
    "\n",
    "d_4 = dropout(l_4, p=0.15)\n",
    "\n",
    "l_5 = batch_norm(DenseLayer(d_4,\n",
    "                num_units=700,\n",
    "                name='dense4',\n",
    "                nonlinearity=lasagne.nonlinearities.tanh))\n",
    "\n",
    "nn = DenseLayer(l_5,num_units=2,\n",
    "                name='dense_out',\n",
    "                nonlinearity=lasagne.nonlinearities.softmax,)\n",
    "\n",
    "\n",
    "det_predicted = L.get_output(nn, deterministic=True)\n",
    "eval_fun = theano.function([input_X], det_predicted[:,1], allow_input_downcast=True, name=\"eval_NN\")"
   ]
  },
  {
   "cell_type": "code",
   "execution_count": 177,
   "metadata": {
    "collapsed": false
   },
   "outputs": [
    {
     "data": {
      "text/plain": [
       "[l_0.beta,\n",
       " l_0.gamma,\n",
       " l_0.mean,\n",
       " l_0.inv_std,\n",
       " dense0.W,\n",
       " dense0_bn.beta,\n",
       " dense0_bn.gamma,\n",
       " dense0_bn.mean,\n",
       " dense0_bn.inv_std,\n",
       " dense1.W,\n",
       " dense1_bn.beta,\n",
       " dense1_bn.gamma,\n",
       " dense1_bn.mean,\n",
       " dense1_bn.inv_std,\n",
       " dense2.W,\n",
       " dense2_bn.beta,\n",
       " dense2_bn.gamma,\n",
       " dense2_bn.mean,\n",
       " dense2_bn.inv_std,\n",
       " dense3.W,\n",
       " dense3_bn.beta,\n",
       " dense3_bn.gamma,\n",
       " dense3_bn.mean,\n",
       " dense3_bn.inv_std,\n",
       " dense4.W,\n",
       " dense4_bn.beta,\n",
       " dense4_bn.gamma,\n",
       " dense4_bn.mean,\n",
       " dense4_bn.inv_std,\n",
       " dense_out.W,\n",
       " dense_out.b]"
      ]
     },
     "execution_count": 177,
     "metadata": {},
     "output_type": "execute_result"
    }
   ],
   "source": [
    "load_nn(nn, \"nn8.weights\")\n",
    "\n",
    "L.get_all_params(nn)"
   ]
  },
  {
   "cell_type": "code",
   "execution_count": 182,
   "metadata": {
    "collapsed": false
   },
   "outputs": [],
   "source": [
    "def eval_mean(x, nn_weight=0.5):\n",
    "    print \"eval NN\"\n",
    "    nn_prob = np.array([])    \n",
    "    batchsize = 10000\n",
    "    for batch in batch_inputs(x[all_features].values, batchsize):\n",
    "        batch_prob = eval_fun(batch)\n",
    "        nn_prob = np.append(nn_prob, batch_prob)\n",
    " \n",
    "    print \"eval BDT\"\n",
    "    xdg_prob = np.array([])    \n",
    "    batchsize = 100000\n",
    "    for batch in batch_inputs(x[selected_features], batchsize):\n",
    "        batch_prob = final_clf.predict_proba(batch)[:,1]\n",
    "        xdg_prob = np.append(xdg_prob, batch_prob)\n",
    "    \n",
    "    bdt_weight = 1-nn_weight\n",
    "    \n",
    "    return (bdt_weight * xdg_prob + nn_weight * nn_prob), nn_prob, xdg_prob"
   ]
  },
  {
   "cell_type": "code",
   "execution_count": 87,
   "metadata": {
    "collapsed": false
   },
   "outputs": [
    {
     "data": {
      "text/html": [
       "<div>\n",
       "<table border=\"1\" class=\"dataframe\">\n",
       "  <thead>\n",
       "    <tr style=\"text-align: right;\">\n",
       "      <th></th>\n",
       "      <th>lepton_pt</th>\n",
       "      <th>lepton_eta</th>\n",
       "      <th>lepton_phi</th>\n",
       "      <th>mem_pt</th>\n",
       "      <th>mem_phi</th>\n",
       "      <th>jet1_pt</th>\n",
       "      <th>jet1_eta</th>\n",
       "      <th>jet1_phi</th>\n",
       "      <th>jet1_btag</th>\n",
       "      <th>jet2_pt</th>\n",
       "      <th>...</th>\n",
       "      <th>jet4_eta</th>\n",
       "      <th>jet4_phi</th>\n",
       "      <th>jet4_btag</th>\n",
       "      <th>m_jj</th>\n",
       "      <th>m_jjj</th>\n",
       "      <th>m_lv</th>\n",
       "      <th>m_jlv</th>\n",
       "      <th>m_bb</th>\n",
       "      <th>m_wbb</th>\n",
       "      <th>m_wwbb</th>\n",
       "    </tr>\n",
       "  </thead>\n",
       "  <tbody>\n",
       "    <tr>\n",
       "      <th>0</th>\n",
       "      <td>34.750568</td>\n",
       "      <td>0.787025</td>\n",
       "      <td>1.898891</td>\n",
       "      <td>20.862434</td>\n",
       "      <td>-2.622998</td>\n",
       "      <td>44.814148</td>\n",
       "      <td>-0.168171</td>\n",
       "      <td>2.631595</td>\n",
       "      <td>2.000023</td>\n",
       "      <td>57.689522</td>\n",
       "      <td>...</td>\n",
       "      <td>0.877472</td>\n",
       "      <td>-0.256736</td>\n",
       "      <td>0</td>\n",
       "      <td>81.724449</td>\n",
       "      <td>189.583145</td>\n",
       "      <td>80.118317</td>\n",
       "      <td>170.086075</td>\n",
       "      <td>91.128204</td>\n",
       "      <td>298.468781</td>\n",
       "      <td>374.68576</td>\n",
       "    </tr>\n",
       "  </tbody>\n",
       "</table>\n",
       "<p>1 rows × 28 columns</p>\n",
       "</div>"
      ],
      "text/plain": [
       "   lepton_pt  lepton_eta  lepton_phi     mem_pt   mem_phi    jet1_pt  \\\n",
       "0  34.750568    0.787025    1.898891  20.862434 -2.622998  44.814148   \n",
       "\n",
       "   jet1_eta  jet1_phi  jet1_btag    jet2_pt    ...      jet4_eta  jet4_phi  \\\n",
       "0 -0.168171  2.631595   2.000023  57.689522    ...      0.877472 -0.256736   \n",
       "\n",
       "   jet4_btag       m_jj       m_jjj       m_lv       m_jlv       m_bb  \\\n",
       "0          0  81.724449  189.583145  80.118317  170.086075  91.128204   \n",
       "\n",
       "        m_wbb     m_wwbb  \n",
       "0  298.468781  374.68576  \n",
       "\n",
       "[1 rows x 28 columns]"
      ]
     },
     "execution_count": 87,
     "metadata": {},
     "output_type": "execute_result"
    }
   ],
   "source": [
    "data[features].head(1)"
   ]
  },
  {
   "cell_type": "code",
   "execution_count": null,
   "metadata": {
    "collapsed": false,
    "scrolled": true
   },
   "outputs": [],
   "source": [
    "v_prob, v_nn, v_bdt = eval_mean(full_valid, nn_weight=0.95)"
   ]
  },
  {
   "cell_type": "code",
   "execution_count": null,
   "metadata": {
    "collapsed": false
   },
   "outputs": [],
   "source": [
    "print \"BDT\", roc_auc_score(full_valid.target, v_bdt)\n",
    "print \"NN \", roc_auc_score(full_valid.target, v_nn)\n",
    "print \"SUM\", roc_auc_score(full_valid.target, v_prob)"
   ]
  },
  {
   "cell_type": "code",
   "execution_count": 147,
   "metadata": {
    "collapsed": false
   },
   "outputs": [
    {
     "name": "stdout",
     "output_type": "stream",
     "text": [
      "eval NN\n",
      "eval BDT\n",
      "CPU times: user 33min 5s, sys: 15.9 s, total: 33min 21s\n",
      "Wall time: 28min 47s\n"
     ]
    }
   ],
   "source": [
    "%%time\n",
    "\n",
    "test_proba, test_nn, test_bdt = eval_mean(test, nn_weight=0.95)\n",
    "test_ids = test.event_id"
   ]
  },
  {
   "cell_type": "code",
   "execution_count": 148,
   "metadata": {
    "collapsed": false
   },
   "outputs": [
    {
     "data": {
      "text/html": [
       "<a href='datasets/b_allft_nn95_b95.csv' target='_blank'>datasets/b_allft_nn95_b95.csv</a><br>"
      ],
      "text/plain": [
       "/home/jan/work/mlhep/mlhep2016/higgs_kaggle/datasets/b_allft_nn95_b95.csv"
      ]
     },
     "execution_count": 148,
     "metadata": {},
     "output_type": "execute_result"
    }
   ],
   "source": [
    "from IPython.display import FileLink\n",
    "def create_solution(ids, proba, filename='baseline.csv'):\n",
    "    \"\"\"saves predictions to file and provides a link for downloading \"\"\"\n",
    "    pandas.DataFrame({'event_id': ids, 'prediction': proba}).to_csv('datasets/{}'.format(filename), index=False)\n",
    "    return FileLink('datasets/{}'.format(filename))\n",
    "\n",
    "create_solution(test_ids, test_nn, \"b_allft_nn95_b95.csv\")"
   ]
  },
  {
   "cell_type": "code",
   "execution_count": 163,
   "metadata": {
    "collapsed": false
   },
   "outputs": [],
   "source": [
    "mean_prob_valid = 0.95*v_nn + 0.05*v_bdt\n",
    "fpr, tpr, _ = roc_curve(full_valid.target, mean_prob_valid)"
   ]
  },
  {
   "cell_type": "code",
   "execution_count": 174,
   "metadata": {
    "collapsed": false
   },
   "outputs": [],
   "source": [
    "def clf_plots(data, name=\"Classifier\"):\n",
    "    sig = data[data.target==1]\n",
    "    bkg = data[data.target==0]\n",
    "    \n",
    "    pred_bkg, _, _ = eval_mean(bkg, 0.95)\n",
    "    pred_sig, _, _ = eval_mean(sig, 0.95)\n",
    "    \n",
    "    pred, _, _ = eval_mean(data, 0.95)\n",
    "    \n",
    "    plt.figure(figsize=(16, 6))\n",
    "    plt.subplot(1, 2, 1)\n",
    "    plt.hist(pred_bkg, label=\"background\", alpha=.5, color=\"blue\", range=(0,1), bins=30)\n",
    "    plt.hist(pred_sig, label=\"signal\", alpha=.5, color=\"red\", range=(0,1), bins=30)\n",
    "    plt.title(name + \" probability\")\n",
    "    plt.legend(loc=\"best\")\n",
    "    \n",
    "    fpr, tpr, _ = roc_curve(data.target, pred)\n",
    "    \n",
    "    plt.subplot(1, 2, 2)\n",
    "    plt.plot(fpr, tpr,  label=name)\n",
    "    plt.plot([0, 1], [0, 1], 'k--', label='')\n",
    "    plt.xlabel('FPR'), plt.ylabel('TPR')\n",
    "    plt.legend(loc='best')\n",
    "    \n",
    "    plt.savefig(\"plots/clf_roc.pdf\")\n",
    "    plt.show()\n",
    "    "
   ]
  },
  {
   "cell_type": "code",
   "execution_count": 175,
   "metadata": {
    "collapsed": false
   },
   "outputs": [
    {
     "name": "stdout",
     "output_type": "stream",
     "text": [
      "eval NN\n",
      "eval BDT\n",
      "eval NN\n",
      "eval BDT\n",
      "eval NN\n",
      "eval BDT\n"
     ]
    },
    {
     "data": {
      "image/png": "[encoded data removed]",
      "text/plain": [
       "<matplotlib.figure.Figure at 0x7f86f0210490>"
      ]
     },
     "metadata": {},
     "output_type": "display_data"
    }
   ],
   "source": [
    "clf_plots(full_valid)"
   ]
  },
  {
   "cell_type": "code",
   "execution_count": null,
   "metadata": {
    "collapsed": true
   },
   "outputs": [],
   "source": []
  }
 ],
 "metadata": {
  "kernelspec": {
   "display_name": "Python 2",
   "language": "python2",
   "name": "python2"
  },
  "language_info": {
   "codemirror_mode": {
    "name": "ipython",
    "version": 2
   },
   "file_extension": ".py",
   "mimetype": "text/x-python",
   "name": "python",
   "nbconvert_exporter": "python",
   "pygments_lexer": "ipython2",
   "version": "2.7.11"
  }
 },
 "nbformat": 4,
 "nbformat_minor": 0
}
